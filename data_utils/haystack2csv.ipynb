{
 "cells": [
  {
   "cell_type": "code",
   "execution_count": null,
   "id": "c071b3b4-a99b-4825-a38a-710ef0930f43",
   "metadata": {},
   "outputs": [],
   "source": [
    "import json\n",
    "import pandas as pd"
   ]
  },
  {
   "cell_type": "code",
   "execution_count": null,
   "id": "415558bb-320f-4412-95fe-13d38f733826",
   "metadata": {},
   "outputs": [],
   "source": [
    "raw_path = \"../data/raw_data/haystack.json\"\n",
    "\n",
    "with open(raw_path, \"r\") as json_file:\n",
    "    json_data = json.load(json_file)"
   ]
  },
  {
   "cell_type": "markdown",
   "id": "d1c9691c-385e-4316-a206-9b97b4504a27",
   "metadata": {},
   "source": [
    "## 데이터 로드 해야하는 것\n",
    "- 데이터 쪼개기 (context, question, document_id, answers [{'answer_start', 'text'}] )\n",
    "- Question 별로 유형 분류\n",
    "- title 쪼개는 것도 (보류)"
   ]
  },
  {
   "cell_type": "code",
   "execution_count": null,
   "id": "27fd2b22-2d05-445f-9860-b510fc02056b",
   "metadata": {
    "scrolled": true,
    "tags": []
   },
   "outputs": [],
   "source": [
    "json_data['data']"
   ]
  },
  {
   "cell_type": "code",
   "execution_count": null,
   "id": "2bf3da5e-57fd-489f-a088-5333862e78aa",
   "metadata": {},
   "outputs": [],
   "source": [
    "def answer_pick(answers):\n",
    "    dict_answer = {\"answer_start\": answers['answer_start'],\n",
    "                   \"text\": answers['text']\n",
    "                  }\n",
    "    return dict_answer"
   ]
  },
  {
   "cell_type": "code",
   "execution_count": null,
   "id": "2a7ed8e0-60a0-48f6-aa66-a760d5636cfd",
   "metadata": {},
   "outputs": [],
   "source": [
    "num_ls = [str(i) for i in range(1, 8)]"
   ]
  },
  {
   "cell_type": "code",
   "execution_count": null,
   "id": "cb0c1f2f-bc4a-4f65-9191-3f89dc012b0a",
   "metadata": {
    "scrolled": true,
    "tags": []
   },
   "outputs": [],
   "source": [
    "dict_data = []\n",
    "no_category = []\n",
    "# json parsing\n",
    "for i, v in enumerate(json_data['data']):\n",
    "    content = v['paragraphs'][0]\n",
    "    for qas_dicts in content['qas']:\n",
    "        qas_dict = qas_dicts.copy()\n",
    "        qas_dict['context'] = content['context']\n",
    "        qas_dict['document_id'] = content['document_id']\n",
    "        qas_dict['answers'] = answer_pick(qas_dict['answers'][0])\n",
    "        if len(qas_dict['question'].split('_')[0]) > 1:\n",
    "            no_category.append(qas_dict)\n",
    "        else:\n",
    "            dict_data.append(qas_dict)"
   ]
  },
  {
   "cell_type": "markdown",
   "id": "0dd06cd8-36c8-47d8-aacb-51a1e7dd7480",
   "metadata": {},
   "source": [
    "## category 있는 애들"
   ]
  },
  {
   "cell_type": "code",
   "execution_count": null,
   "id": "174d7717-65c6-434e-aa91-1a0d6bec5c4c",
   "metadata": {},
   "outputs": [],
   "source": [
    "df = pd.DataFrame(dict_data)"
   ]
  },
  {
   "cell_type": "code",
   "execution_count": null,
   "id": "e908339e-13b6-4cf2-82df-f8f733c5c6d0",
   "metadata": {},
   "outputs": [],
   "source": [
    " # Dataframe parsing / category split\n",
    "df['category'] = df.question.str.split('_').str[0]\n",
    "df['question'] = df.question.str.split('_').str[1]\n",
    "df.head()"
   ]
  },
  {
   "cell_type": "code",
   "execution_count": null,
   "id": "95dd1195-62e2-41c9-a45c-148059d0b197",
   "metadata": {},
   "outputs": [],
   "source": [
    "df.answers[0]"
   ]
  },
  {
   "cell_type": "code",
   "execution_count": null,
   "id": "eb069404-cbad-48f7-8510-c84d19ae1420",
   "metadata": {},
   "outputs": [],
   "source": [
    "# reorder\n",
    "data_df = df[['category', 'document_id', 'question', 'answers', 'context']]"
   ]
  },
  {
   "cell_type": "code",
   "execution_count": null,
   "id": "1bb9a54a-ff09-4f32-a0b8-6595aed268f0",
   "metadata": {},
   "outputs": [],
   "source": [
    "data_df.answers"
   ]
  },
  {
   "cell_type": "code",
   "execution_count": null,
   "id": "ed540af3-a985-437c-a741-ee272925950b",
   "metadata": {},
   "outputs": [],
   "source": [
    "data_df = data_df.astype({'category':'int'})"
   ]
  },
  {
   "cell_type": "code",
   "execution_count": null,
   "id": "f7e1152a-c4a7-4c7a-ac1a-cfb993d6181e",
   "metadata": {},
   "outputs": [],
   "source": [
    "data_df.to_csv(\"./data/origin_data.csv\", mode='w', index=False)"
   ]
  },
  {
   "cell_type": "markdown",
   "id": "1a99958a-5d7a-4925-8a92-ddf06465c57a",
   "metadata": {},
   "source": [
    "## 카테고리 없는 애들\n",
    "- 33개 데이터 카테고리 미태깅, 수가 얼마 안돼 카테고리 태깅만 해서 넣어줌"
   ]
  },
  {
   "cell_type": "code",
   "execution_count": null,
   "id": "5c9ec746-7a9c-45c8-a232-cc126dbaa185",
   "metadata": {},
   "outputs": [],
   "source": [
    "df_no_cat = pd.DataFrame(no_category)"
   ]
  },
  {
   "cell_type": "code",
   "execution_count": null,
   "id": "87373511-e05e-4977-a54d-c28fc39655a3",
   "metadata": {},
   "outputs": [],
   "source": [
    "category = [2, 1, 3, 6, 4, 5, 2, 1, 5, 3, 7, 4, 1, 2, 4, 2, 2, 3, 2, 4, 6, 5, 6, 6, 5, 5, 7, 7, 4, 2, 4, 2, 7, 4]"
   ]
  },
  {
   "cell_type": "code",
   "execution_count": null,
   "id": "02ed7e55-0f21-4b91-9aaf-76299a8ccac0",
   "metadata": {},
   "outputs": [],
   "source": [
    "df_no_cat['category'] = category"
   ]
  },
  {
   "cell_type": "code",
   "execution_count": null,
   "id": "ad2c34e0-431f-46f2-9db7-90a08a6bc494",
   "metadata": {},
   "outputs": [],
   "source": [
    "data_df_no_cat = df_no_cat[['category', 'document_id', 'question', 'answers', 'context']]\n",
    "# 기존 데이터 폴더에서 더함"
   ]
  },
  {
   "cell_type": "code",
   "execution_count": null,
   "id": "a0bf8cc8-0b8a-4377-8f7d-da1f74b74164",
   "metadata": {},
   "outputs": [],
   "source": [
    "data_concat = pd.concat([data_df, data_df_no_cat])"
   ]
  },
  {
   "cell_type": "code",
   "execution_count": null,
   "id": "e4328f29-9dab-4eeb-9418-a20d3d1b4444",
   "metadata": {},
   "outputs": [],
   "source": [
    "data_concat"
   ]
  },
  {
   "cell_type": "markdown",
   "id": "535a4d24-200b-41cf-9e19-116cf1f21735",
   "metadata": {},
   "source": [
    "## csv 파일 저장"
   ]
  },
  {
   "cell_type": "code",
   "execution_count": null,
   "id": "dfc6b8ee-2ef6-49c9-a68f-0e8bdf65fa32",
   "metadata": {},
   "outputs": [],
   "source": [
    "data_concat.to_csv(\"./data/origin_data.csv\", mode='w', index=False)"
   ]
  },
  {
   "cell_type": "markdown",
   "id": "f55f5a70-5fac-4357-bfe4-3d773fe8b952",
   "metadata": {},
   "source": [
    "## csv 파일 로드"
   ]
  },
  {
   "cell_type": "code",
   "execution_count": null,
   "id": "54ed735c-d4bc-4713-9e9a-b001bcb53224",
   "metadata": {},
   "outputs": [],
   "source": [
    "df = pd.read_csv('./data/origin_data.csv')"
   ]
  }
 ],
 "metadata": {
  "kernelspec": {
   "display_name": "Python 3 (ipykernel)",
   "language": "python",
   "name": "python3"
  },
  "language_info": {
   "codemirror_mode": {
    "name": "ipython",
    "version": 3
   },
   "file_extension": ".py",
   "mimetype": "text/x-python",
   "name": "python",
   "nbconvert_exporter": "python",
   "pygments_lexer": "ipython3",
   "version": "3.8.5"
  }
 },
 "nbformat": 4,
 "nbformat_minor": 5
}
