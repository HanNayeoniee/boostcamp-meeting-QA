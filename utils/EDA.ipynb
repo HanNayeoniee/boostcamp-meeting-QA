{
 "cells": [
  {
   "cell_type": "code",
   "execution_count": 1,
   "id": "e9c678be-3666-44a2-9dd2-6200f9fe37ad",
   "metadata": {},
   "outputs": [],
   "source": [
    "import pandas as pd\n",
    "import seaborn as sns\n",
    "import warnings\n",
    "import re\n",
    "import matplotlib\n",
    "import matplotlib.pyplot as plt\n",
    "import numpy as np\n",
    "import random\n",
    "\n",
    "warnings.filterwarnings(action='ignore')"
   ]
  },
  {
   "cell_type": "code",
   "execution_count": 2,
   "id": "09308589-c87c-43f2-9e64-7231047659b4",
   "metadata": {},
   "outputs": [],
   "source": [
    "df=pd.read_csv('./origin_data.csv')"
   ]
  },
  {
   "cell_type": "markdown",
   "id": "105b842d-0755-490b-a853-a6d56c500260",
   "metadata": {},
   "source": [
    "## question null 값\n",
    "- 486 -> 질문이 '2' ->직접 질문 넣음\n",
    "- 799 -> 질문이 NaN -> 직접 질문넣음\n",
    "- 1396 -> 질문이 '3' -> 직접 질문넣음 "
   ]
  },
  {
   "cell_type": "code",
   "execution_count": 3,
   "id": "e7d03b96-9511-423d-a33e-827ccac621ea",
   "metadata": {},
   "outputs": [],
   "source": [
    "tmp1=df.iloc[486]\n",
    "tmp2=df.iloc[799]\n",
    "tmp3=df.iloc[1396]\n",
    "\n",
    "tmp1['question']='제240회 완주군의회 임시회에서 의회 관련 사항을 보고한 사람은 누구야?'\n",
    "tmp2['question']='제98회 전라북도 완주군의회 임시회 회기 결정의 건에 대해 발의한 사람은 누구야?'\n",
    "tmp3['question']='제 103회 전라북도 완주군의회 임시회 제1회 본회의의 휴회 기간은 언제야?'\n",
    "\n",
    "df.iloc[486]=tmp1\n",
    "df.iloc[799]=tmp2\n",
    "df.iloc[1396]=tmp3"
   ]
  },
  {
   "cell_type": "code",
   "execution_count": 4,
   "id": "2019ab84-3080-4d82-8f2a-ff8954e299d9",
   "metadata": {},
   "outputs": [
    {
     "name": "stdout",
     "output_type": "stream",
     "text": [
      "<class 'pandas.core.frame.DataFrame'>\n",
      "RangeIndex: 1553 entries, 0 to 1552\n",
      "Data columns (total 5 columns):\n",
      " #   Column       Non-Null Count  Dtype \n",
      "---  ------       --------------  ----- \n",
      " 0   category     1553 non-null   int64 \n",
      " 1   document_id  1553 non-null   int64 \n",
      " 2   question     1553 non-null   object\n",
      " 3   answers      1553 non-null   object\n",
      " 4   context      1553 non-null   object\n",
      "dtypes: int64(2), object(3)\n",
      "memory usage: 60.8+ KB\n"
     ]
    }
   ],
   "source": [
    "df.info()"
   ]
  },
  {
   "cell_type": "markdown",
   "id": "b7b7dc63-6419-4e84-add9-89e29b69677b",
   "metadata": {},
   "source": [
    "# question 내의 \"\\n\" 제거 ->10개당 1개 꼴"
   ]
  },
  {
   "cell_type": "code",
   "execution_count": 5,
   "id": "eebe1b22-2098-485f-9e05-2e55bdb6bbe4",
   "metadata": {},
   "outputs": [],
   "source": [
    "def remove_n(text):\n",
    "    new_string = re.sub(r'\\n', '', text)\n",
    "    return new_string"
   ]
  },
  {
   "cell_type": "markdown",
   "id": "9ba664d3-eaae-4a8e-8568-1523e9710358",
   "metadata": {},
   "source": [
    "# 데이터프레임에 길이관련 열 추가\n",
    "## 미해결\n",
    "- query_id\n",
    "- answer 받으면 dict이아닌 str -> 이 파일안에선 eval로 해결"
   ]
  },
  {
   "cell_type": "code",
   "execution_count": 6,
   "id": "15888661-d7ba-4933-b3be-9550996343b9",
   "metadata": {},
   "outputs": [],
   "source": [
    "df['question']=df['question'].apply(lambda x: remove_n(x))\n",
    "df['answers']=df['answers'].apply(lambda x:eval(x))\n",
    "df['con_len'] = df['context'].apply(lambda x: len(x))\n",
    "df['qu_len'] = df['question'].apply(lambda x: len(x))\n",
    "df['ans_len']=[len((df['answers'][i])['text']) for i in range(len(df))]"
   ]
  },
  {
   "cell_type": "code",
   "execution_count": 7,
   "id": "ab787764-e32b-4136-9308-373cd8a4282a",
   "metadata": {},
   "outputs": [],
   "source": [
    "question_mark_dict={1:'1 : When(term)',\n",
    "                    2:'2 :When(date)',\n",
    "                    3:'3 : Who(action)',\n",
    "                    4:'4 : Who(role)',\n",
    "                    5:'5 : Why(action)',\n",
    "                    6:'6 : What(indicator)',\n",
    "                    7:'7 : What(conference)'}\n",
    "\n",
    "category_list=df['category']\n",
    "\n",
    "for i in range(len(category_list)):\n",
    "    for key in question_mark_dict.keys():\n",
    "        if category_list[i]==key:\n",
    "            category_list[i]=question_mark_dict[key]\n",
    "\n",
    "df['category']=category_list"
   ]
  },
  {
   "cell_type": "markdown",
   "id": "7953101b-c8e3-418d-88f8-84e9d16f0b09",
   "metadata": {},
   "source": [
    "# 데이터의 형태"
   ]
  },
  {
   "cell_type": "code",
   "execution_count": 8,
   "id": "ec1d7538-485b-44ea-8bdf-21b5e51ddebc",
   "metadata": {},
   "outputs": [
    {
     "data": {
      "text/html": [
       "<div>\n",
       "<style scoped>\n",
       "    .dataframe tbody tr th:only-of-type {\n",
       "        vertical-align: middle;\n",
       "    }\n",
       "\n",
       "    .dataframe tbody tr th {\n",
       "        vertical-align: top;\n",
       "    }\n",
       "\n",
       "    .dataframe thead th {\n",
       "        text-align: right;\n",
       "    }\n",
       "</style>\n",
       "<table border=\"1\" class=\"dataframe\">\n",
       "  <thead>\n",
       "    <tr style=\"text-align: right;\">\n",
       "      <th></th>\n",
       "      <th>category</th>\n",
       "      <th>document_id</th>\n",
       "      <th>question</th>\n",
       "      <th>answers</th>\n",
       "      <th>context</th>\n",
       "      <th>con_len</th>\n",
       "      <th>qu_len</th>\n",
       "      <th>ans_len</th>\n",
       "    </tr>\n",
       "  </thead>\n",
       "  <tbody>\n",
       "    <tr>\n",
       "      <th>0</th>\n",
       "      <td>1 : When(term)</td>\n",
       "      <td>603489</td>\n",
       "      <td>제178회 완주군의회 임시회 회기는 언제로 결정됐어?</td>\n",
       "      <td>{'answer_start': 144, 'text': '4월 20일부터 4월 27일...</td>\n",
       "      <td>@제178회        완주군의회(임시회) 제 1 차 본회의회의록@\\n\\n의사일정...</td>\n",
       "      <td>242</td>\n",
       "      <td>29</td>\n",
       "      <td>21</td>\n",
       "    </tr>\n",
       "    <tr>\n",
       "      <th>1</th>\n",
       "      <td>3 : Who(action)</td>\n",
       "      <td>603489</td>\n",
       "      <td>제178회 완주군의회 임시회 회기를 발의한 사람은 누구인가?</td>\n",
       "      <td>{'answer_start': 119, 'text': '김상식 위원장 외 3인의 의원'}</td>\n",
       "      <td>@제178회        완주군의회(임시회) 제 1 차 본회의회의록@\\n\\n의사일정...</td>\n",
       "      <td>242</td>\n",
       "      <td>33</td>\n",
       "      <td>16</td>\n",
       "    </tr>\n",
       "    <tr>\n",
       "      <th>2</th>\n",
       "      <td>7 : What(conference)</td>\n",
       "      <td>604003</td>\n",
       "      <td>제7대 완주군의회 후반기 상임위원회 의원 선임건을 상정한 회의는 어떤거야?</td>\n",
       "      <td>{'answer_start': 1, 'text': '제214회 완주군의회(임시회) ...</td>\n",
       "      <td>@제214회 완주군의회(임시회) 제1차 본 회 의 회 의 록@\\n\\n의석을 정돈하여...</td>\n",
       "      <td>908</td>\n",
       "      <td>41</td>\n",
       "      <td>26</td>\n",
       "    </tr>\n",
       "    <tr>\n",
       "      <th>3</th>\n",
       "      <td>4 : Who(role)</td>\n",
       "      <td>604003</td>\n",
       "      <td>산업건설위원회 위원들은 누구인가?</td>\n",
       "      <td>{'answer_start': 656, 'text': '서남용 의원님, 윤수봉 의원...</td>\n",
       "      <td>@제214회 완주군의회(임시회) 제1차 본 회 의 회 의 록@\\n\\n의석을 정돈하여...</td>\n",
       "      <td>908</td>\n",
       "      <td>18</td>\n",
       "      <td>43</td>\n",
       "    </tr>\n",
       "    <tr>\n",
       "      <th>4</th>\n",
       "      <td>6 : What(indicator)</td>\n",
       "      <td>603644</td>\n",
       "      <td>완주군의회 의원 의정활동비등 지급에 관한 조례중 개정조례안을 발의한 의원은 몇 명이야?</td>\n",
       "      <td>{'answer_start': 435, 'text': '9인'}</td>\n",
       "      <td>@제109회 전라북도 완주군의회 (임시회) 제2호 본 회 의 회 의 록@\\n\\n의사...</td>\n",
       "      <td>1111</td>\n",
       "      <td>48</td>\n",
       "      <td>2</td>\n",
       "    </tr>\n",
       "  </tbody>\n",
       "</table>\n",
       "</div>"
      ],
      "text/plain": [
       "               category  document_id  \\\n",
       "0        1 : When(term)       603489   \n",
       "1       3 : Who(action)       603489   \n",
       "2  7 : What(conference)       604003   \n",
       "3         4 : Who(role)       604003   \n",
       "4   6 : What(indicator)       603644   \n",
       "\n",
       "                                           question  \\\n",
       "0                     제178회 완주군의회 임시회 회기는 언제로 결정됐어?   \n",
       "1                 제178회 완주군의회 임시회 회기를 발의한 사람은 누구인가?   \n",
       "2         제7대 완주군의회 후반기 상임위원회 의원 선임건을 상정한 회의는 어떤거야?   \n",
       "3                                산업건설위원회 위원들은 누구인가?   \n",
       "4  완주군의회 의원 의정활동비등 지급에 관한 조례중 개정조례안을 발의한 의원은 몇 명이야?   \n",
       "\n",
       "                                             answers  \\\n",
       "0  {'answer_start': 144, 'text': '4월 20일부터 4월 27일...   \n",
       "1  {'answer_start': 119, 'text': '김상식 위원장 외 3인의 의원'}   \n",
       "2  {'answer_start': 1, 'text': '제214회 완주군의회(임시회) ...   \n",
       "3  {'answer_start': 656, 'text': '서남용 의원님, 윤수봉 의원...   \n",
       "4                {'answer_start': 435, 'text': '9인'}   \n",
       "\n",
       "                                             context  con_len  qu_len  ans_len  \n",
       "0  @제178회        완주군의회(임시회) 제 1 차 본회의회의록@\\n\\n의사일정...      242      29       21  \n",
       "1  @제178회        완주군의회(임시회) 제 1 차 본회의회의록@\\n\\n의사일정...      242      33       16  \n",
       "2  @제214회 완주군의회(임시회) 제1차 본 회 의 회 의 록@\\n\\n의석을 정돈하여...      908      41       26  \n",
       "3  @제214회 완주군의회(임시회) 제1차 본 회 의 회 의 록@\\n\\n의석을 정돈하여...      908      18       43  \n",
       "4  @제109회 전라북도 완주군의회 (임시회) 제2호 본 회 의 회 의 록@\\n\\n의사...     1111      48        2  "
      ]
     },
     "execution_count": 8,
     "metadata": {},
     "output_type": "execute_result"
    }
   ],
   "source": [
    "df.head(5)"
   ]
  },
  {
   "cell_type": "markdown",
   "id": "685c9e54-a7f1-4955-a5b0-f9b9af2126a1",
   "metadata": {},
   "source": [
    "# EDA"
   ]
  },
  {
   "cell_type": "markdown",
   "id": "88ac7518-b0c5-42eb-8ff6-404362d6abb9",
   "metadata": {},
   "source": [
    "## 분포"
   ]
  },
  {
   "cell_type": "code",
   "execution_count": 9,
   "id": "20bc38bd-b90f-4e64-a52b-2b2b1db52696",
   "metadata": {},
   "outputs": [
    {
     "data": {
      "text/plain": [
       "Text(0.5, 1.0, 'Frequency Answer Data')"
      ]
     },
     "execution_count": 9,
     "metadata": {},
     "output_type": "execute_result"
    },
    {
     "data": {
      "image/png": "[encoded data removed]",
      "text/plain": [
       "<Figure size 720x360 with 6 Axes>"
      ]
     },
     "metadata": {
      "needs_background": "light"
     },
     "output_type": "display_data"
    }
   ],
   "source": [
    "plt.figure(figsize=(10, 5))\n",
    "plt.subplots_adjust(left=0.125, bottom=0.1, right=0.9, top=0.9, wspace=0.2, hspace=1)\n",
    "\n",
    "plt.subplot(3,2,1)\n",
    "plt.plot(sorted(df[\"con_len\"]))\n",
    "plt.xlabel(\"Data index\")\n",
    "plt.ylabel(\"Length of Data\")\n",
    "plt.title(\"Length of Context Data\")\n",
    "\n",
    "plt.subplot(3,2,2)\n",
    "plt.hist(sorted(df[\"con_len\"]))\n",
    "plt.xlabel(\"Length\")\n",
    "plt.ylabel(\"Frequency\")\n",
    "plt.title(\"Frequency of Context Data\")\n",
    "\n",
    "plt.subplot(3,2,3)\n",
    "plt.plot(sorted(df[\"qu_len\"]))\n",
    "plt.xlabel(\"Data index\")\n",
    "plt.ylabel(\"Length of Data\")\n",
    "plt.title(\"Length of Question Data\")\n",
    "\n",
    "plt.subplot(3,2,4)\n",
    "plt.hist(sorted(df[\"qu_len\"]))\n",
    "plt.xlabel(\"Length\")\n",
    "plt.ylabel(\"Frequency\")\n",
    "plt.title(\"Frequency Question Data\")\n",
    "\n",
    "plt.subplot(3,2,5)\n",
    "plt.plot(sorted(df[\"ans_len\"]))\n",
    "plt.xlabel(\"Data index\")\n",
    "plt.ylabel(\"Length of Data\")\n",
    "plt.title(\"Length of Answer Data\")\n",
    "\n",
    "plt.subplot(3,2,6)\n",
    "plt.hist(sorted(df[\"ans_len\"]))\n",
    "plt.xlabel(\"Length\")\n",
    "plt.ylabel(\"Frequency\")\n",
    "plt.title(\"Frequency Answer Data\")"
   ]
  },
  {
   "cell_type": "code",
   "execution_count": 17,
   "id": "0c08fd6f-31f8-4b35-9c1f-5d5a4957757e",
   "metadata": {},
   "outputs": [
    {
     "data": {
      "text/plain": [
       "Text(0.5, 1.0, 'Density of answer length')"
      ]
     },
     "execution_count": 17,
     "metadata": {},
     "output_type": "execute_result"
    },
    {
     "data": {
      "image/png": "[encoded data removed]",
      "text/plain": [
       "<Figure size 864x1440 with 3 Axes>"
      ]
     },
     "metadata": {},
     "output_type": "display_data"
    }
   ],
   "source": [
    "# train data 길이 시각화\n",
    "fig, axes = plt.subplots(3, 1, figsize=(12, 20))\n",
    "\n",
    "g = sns.distplot(df['con_len'], ax=axes[0])\n",
    "# g = sns.violinplot(data=train_df, x='con_len', ax=ax)\n",
    "axes[0].set_xlabel(g.get_xlabel(), fontsize=12)\n",
    "axes[0].set_ylabel(g.get_ylabel(), fontsize=12) \n",
    "axes[0].set_title('Density of context length')\n",
    "\n",
    "\n",
    "g = sns.distplot(df['qu_len'], ax=axes[1])\n",
    "axes[1].set_xlabel(g.get_xlabel(), fontsize=12)\n",
    "axes[1].set_ylabel(g.get_ylabel(), fontsize=12) \n",
    "axes[1].set_title('Density of question length')\n",
    "\n",
    "\n",
    "g = sns.distplot(df['ans_len'], ax=axes[2])\n",
    "axes[2].set_xlabel(g.get_xlabel(), fontsize=12)\n",
    "axes[2].set_ylabel(g.get_ylabel(), fontsize=12) \n",
    "axes[2].set_title('Density of answer length')"
   ]
  },
  {
   "cell_type": "markdown",
   "id": "84821a06-7d24-424a-9609-6120c980ee4e",
   "metadata": {
    "tags": []
   },
   "source": [
    "# `우리가 수행한 MRC 태스크와 유사!`\n",
    "[MRC 대회에서 수행했던 EDA](https://github.com/boostcampaitech3/level2-mrc-level2-nlp-09/blob/master/EDA/EDA_tokenizer.ipynb)"
   ]
  },
  {
   "cell_type": "markdown",
   "id": "d39ab7dd-b74c-412d-a987-d6de2c03739d",
   "metadata": {},
   "source": [
    "## 통계치"
   ]
  },
  {
   "cell_type": "code",
   "execution_count": 10,
   "id": "df125bf2-48f5-4e4e-bf67-9c6ba997e4b2",
   "metadata": {},
   "outputs": [
    {
     "data": {
      "text/html": [
       "<div>\n",
       "<style scoped>\n",
       "    .dataframe tbody tr th:only-of-type {\n",
       "        vertical-align: middle;\n",
       "    }\n",
       "\n",
       "    .dataframe tbody tr th {\n",
       "        vertical-align: top;\n",
       "    }\n",
       "\n",
       "    .dataframe thead th {\n",
       "        text-align: right;\n",
       "    }\n",
       "</style>\n",
       "<table border=\"1\" class=\"dataframe\">\n",
       "  <thead>\n",
       "    <tr style=\"text-align: right;\">\n",
       "      <th></th>\n",
       "      <th>con_len</th>\n",
       "      <th>qu_len</th>\n",
       "      <th>ans_len</th>\n",
       "    </tr>\n",
       "  </thead>\n",
       "  <tbody>\n",
       "    <tr>\n",
       "      <th>count</th>\n",
       "      <td>1553.000000</td>\n",
       "      <td>1553.000000</td>\n",
       "      <td>1553.000000</td>\n",
       "    </tr>\n",
       "    <tr>\n",
       "      <th>mean</th>\n",
       "      <td>986.396008</td>\n",
       "      <td>37.855763</td>\n",
       "      <td>20.446233</td>\n",
       "    </tr>\n",
       "    <tr>\n",
       "      <th>std</th>\n",
       "      <td>1244.264133</td>\n",
       "      <td>10.542797</td>\n",
       "      <td>39.204327</td>\n",
       "    </tr>\n",
       "    <tr>\n",
       "      <th>min</th>\n",
       "      <td>78.000000</td>\n",
       "      <td>12.000000</td>\n",
       "      <td>1.000000</td>\n",
       "    </tr>\n",
       "    <tr>\n",
       "      <th>25%</th>\n",
       "      <td>274.000000</td>\n",
       "      <td>31.000000</td>\n",
       "      <td>7.000000</td>\n",
       "    </tr>\n",
       "    <tr>\n",
       "      <th>50%</th>\n",
       "      <td>539.000000</td>\n",
       "      <td>37.000000</td>\n",
       "      <td>16.000000</td>\n",
       "    </tr>\n",
       "    <tr>\n",
       "      <th>75%</th>\n",
       "      <td>1054.000000</td>\n",
       "      <td>43.000000</td>\n",
       "      <td>23.000000</td>\n",
       "    </tr>\n",
       "    <tr>\n",
       "      <th>max</th>\n",
       "      <td>10253.000000</td>\n",
       "      <td>98.000000</td>\n",
       "      <td>1367.000000</td>\n",
       "    </tr>\n",
       "  </tbody>\n",
       "</table>\n",
       "</div>"
      ],
      "text/plain": [
       "            con_len       qu_len      ans_len\n",
       "count   1553.000000  1553.000000  1553.000000\n",
       "mean     986.396008    37.855763    20.446233\n",
       "std     1244.264133    10.542797    39.204327\n",
       "min       78.000000    12.000000     1.000000\n",
       "25%      274.000000    31.000000     7.000000\n",
       "50%      539.000000    37.000000    16.000000\n",
       "75%     1054.000000    43.000000    23.000000\n",
       "max    10253.000000    98.000000  1367.000000"
      ]
     },
     "execution_count": 10,
     "metadata": {},
     "output_type": "execute_result"
    }
   ],
   "source": [
    "df[[\"con_len\",\"qu_len\",\"ans_len\"]].describe()"
   ]
  },
  {
   "cell_type": "markdown",
   "id": "d1696e47-eb5b-497f-a8ee-6f5a826376fe",
   "metadata": {},
   "source": [
    "## 결측치"
   ]
  },
  {
   "cell_type": "code",
   "execution_count": 11,
   "id": "eccfd6db-5142-4b0f-82eb-31b0308bb4d0",
   "metadata": {},
   "outputs": [
    {
     "name": "stdout",
     "output_type": "stream",
     "text": [
      "<class 'pandas.core.frame.DataFrame'>\n",
      "RangeIndex: 1553 entries, 0 to 1552\n",
      "Data columns (total 8 columns):\n",
      " #   Column       Non-Null Count  Dtype \n",
      "---  ------       --------------  ----- \n",
      " 0   category     1553 non-null   object\n",
      " 1   document_id  1553 non-null   int64 \n",
      " 2   question     1553 non-null   object\n",
      " 3   answers      1553 non-null   object\n",
      " 4   context      1553 non-null   object\n",
      " 5   con_len      1553 non-null   int64 \n",
      " 6   qu_len       1553 non-null   int64 \n",
      " 7   ans_len      1553 non-null   int64 \n",
      "dtypes: int64(4), object(4)\n",
      "memory usage: 97.2+ KB\n"
     ]
    }
   ],
   "source": [
    "df.info()"
   ]
  },
  {
   "cell_type": "markdown",
   "id": "8c9efdc1-5b8b-4e30-b3c0-5a4bbcb2172c",
   "metadata": {},
   "source": [
    "## 중복"
   ]
  },
  {
   "cell_type": "code",
   "execution_count": 12,
   "id": "1d2d2cbd-58e1-4168-8be8-d5171da4e58b",
   "metadata": {},
   "outputs": [
    {
     "name": "stdout",
     "output_type": "stream",
     "text": [
      "카테고리 수 : 7\n",
      "unique cocument_id 수 : 859\n",
      "unique context 수 : : 859\n"
     ]
    }
   ],
   "source": [
    "print(f\"카테고리 수 : {df['category'].nunique()}\")\n",
    "print(f\"unique cocument_id 수 : {df['document_id'].nunique()}\")\n",
    "print(f\"unique context 수 : : {df['context'].nunique()}\")"
   ]
  },
  {
   "cell_type": "markdown",
   "id": "955d3624-16bd-4aac-9e37-17155e8e15f1",
   "metadata": {},
   "source": [
    "# 카테고리"
   ]
  },
  {
   "cell_type": "code",
   "execution_count": 13,
   "id": "4ddf6001-ab0d-4d55-bb2b-06d82d54a47d",
   "metadata": {},
   "outputs": [
    {
     "data": {
      "text/plain": [
       "<matplotlib.axes._subplots.AxesSubplot at 0x7f2f900d4a60>"
      ]
     },
     "execution_count": 13,
     "metadata": {},
     "output_type": "execute_result"
    },
    {
     "data": {
      "image/png": "[encoded data removed]",
      "text/plain": [
       "<Figure size 1080x576 with 1 Axes>"
      ]
     },
     "metadata": {},
     "output_type": "display_data"
    }
   ],
   "source": [
    "sns.set(rc = {'figure.figsize':(15,8)})\n",
    "sns.countplot(y='category', data=df, order=df['category'].value_counts().index)"
   ]
  },
  {
   "cell_type": "markdown",
   "id": "e65b61ee-a356-421a-9ccd-4c81233f805b",
   "metadata": {},
   "source": [
    "![korquad](https://user-images.githubusercontent.com/46811558/169752414-9afcfaf2-edd6-4d54-8ba8-bf34a2d2b335.png)"
   ]
  },
  {
   "cell_type": "code",
   "execution_count": 14,
   "id": "f503d964-ccd2-44a3-9d7d-2521bb4ad815",
   "metadata": {},
   "outputs": [],
   "source": [
    "category_df=pd.DataFrame()\n",
    "column_list=['의문사','질문 패턴','답변 유형']\n",
    "mark_list=['When(기간)','When(일시)','Who(능동주, 행동)','Who(피동주, 역할)','Why(행동, 의견)','What(지표)','What(회의)']\n",
    "answer_list=['기간(날짜, 시간)','일시(날짜, 시간)','사람(들)','사람','명사구/기타','숫자(금액, 단위)','명사구']\n",
    "qu_list=['<사건>의 기간은?','<사건>는 언제 진행되는가?','<행동>을 수행한 사람은 누구인가?','<역할>을 맡게된 사람은 누구인가?','<행동>을 한 이유는 무엇인가?','<사건>의 나온 <지표>는 얼마인가?','<사건>를 다루고 있는 회의는?']"
   ]
  },
  {
   "cell_type": "code",
   "execution_count": 15,
   "id": "53f97d33-364b-4170-b210-f90bfe120d8d",
   "metadata": {},
   "outputs": [],
   "source": [
    "category_df[column_list[0]]=mark_list\n",
    "category_df[column_list[1]]=qu_list\n",
    "category_df[column_list[2]]=answer_list\n",
    "\n",
    "category_df.index=category_df.index + 1\n",
    "category_df['count']=list(df['category'].value_counts().sort_index())"
   ]
  },
  {
   "cell_type": "code",
   "execution_count": 16,
   "id": "e7ceb94f-defb-455c-8a1e-90c68ab3f8fb",
   "metadata": {},
   "outputs": [
    {
     "data": {
      "text/html": [
       "<div>\n",
       "<style scoped>\n",
       "    .dataframe tbody tr th:only-of-type {\n",
       "        vertical-align: middle;\n",
       "    }\n",
       "\n",
       "    .dataframe tbody tr th {\n",
       "        vertical-align: top;\n",
       "    }\n",
       "\n",
       "    .dataframe thead th {\n",
       "        text-align: right;\n",
       "    }\n",
       "</style>\n",
       "<table border=\"1\" class=\"dataframe\">\n",
       "  <thead>\n",
       "    <tr style=\"text-align: right;\">\n",
       "      <th></th>\n",
       "      <th>의문사</th>\n",
       "      <th>질문 패턴</th>\n",
       "      <th>답변 유형</th>\n",
       "      <th>count</th>\n",
       "    </tr>\n",
       "  </thead>\n",
       "  <tbody>\n",
       "    <tr>\n",
       "      <th>1</th>\n",
       "      <td>When(기간)</td>\n",
       "      <td>&lt;사건&gt;의 기간은?</td>\n",
       "      <td>기간(날짜, 시간)</td>\n",
       "      <td>235</td>\n",
       "    </tr>\n",
       "    <tr>\n",
       "      <th>2</th>\n",
       "      <td>When(일시)</td>\n",
       "      <td>&lt;사건&gt;는 언제 진행되는가?</td>\n",
       "      <td>일시(날짜, 시간)</td>\n",
       "      <td>217</td>\n",
       "    </tr>\n",
       "    <tr>\n",
       "      <th>3</th>\n",
       "      <td>Who(능동주, 행동)</td>\n",
       "      <td>&lt;행동&gt;을 수행한 사람은 누구인가?</td>\n",
       "      <td>사람(들)</td>\n",
       "      <td>292</td>\n",
       "    </tr>\n",
       "    <tr>\n",
       "      <th>4</th>\n",
       "      <td>Who(피동주, 역할)</td>\n",
       "      <td>&lt;역할&gt;을 맡게된 사람은 누구인가?</td>\n",
       "      <td>사람</td>\n",
       "      <td>217</td>\n",
       "    </tr>\n",
       "    <tr>\n",
       "      <th>5</th>\n",
       "      <td>Why(행동, 의견)</td>\n",
       "      <td>&lt;행동&gt;을 한 이유는 무엇인가?</td>\n",
       "      <td>명사구/기타</td>\n",
       "      <td>198</td>\n",
       "    </tr>\n",
       "    <tr>\n",
       "      <th>6</th>\n",
       "      <td>What(지표)</td>\n",
       "      <td>&lt;사건&gt;의 나온 &lt;지표&gt;는 얼마인가?</td>\n",
       "      <td>숫자(금액, 단위)</td>\n",
       "      <td>132</td>\n",
       "    </tr>\n",
       "    <tr>\n",
       "      <th>7</th>\n",
       "      <td>What(회의)</td>\n",
       "      <td>&lt;사건&gt;를 다루고 있는 회의는?</td>\n",
       "      <td>명사구</td>\n",
       "      <td>262</td>\n",
       "    </tr>\n",
       "  </tbody>\n",
       "</table>\n",
       "</div>"
      ],
      "text/plain": [
       "            의문사                 질문 패턴       답변 유형  count\n",
       "1      When(기간)            <사건>의 기간은?  기간(날짜, 시간)    235\n",
       "2      When(일시)       <사건>는 언제 진행되는가?  일시(날짜, 시간)    217\n",
       "3  Who(능동주, 행동)   <행동>을 수행한 사람은 누구인가?       사람(들)    292\n",
       "4  Who(피동주, 역할)   <역할>을 맡게된 사람은 누구인가?          사람    217\n",
       "5   Why(행동, 의견)     <행동>을 한 이유는 무엇인가?      명사구/기타    198\n",
       "6      What(지표)  <사건>의 나온 <지표>는 얼마인가?  숫자(금액, 단위)    132\n",
       "7      What(회의)     <사건>를 다루고 있는 회의는?         명사구    262"
      ]
     },
     "execution_count": 16,
     "metadata": {},
     "output_type": "execute_result"
    }
   ],
   "source": [
    "category_df"
   ]
  },
  {
   "cell_type": "markdown",
   "id": "bc6a2a06-4520-48c0-b91e-51d113dc31ce",
   "metadata": {},
   "source": [
    "# EDA Tokenizer"
   ]
  },
  {
   "cell_type": "code",
   "execution_count": 20,
   "id": "22074f58-2e38-4993-90df-dac987e7fb7e",
   "metadata": {},
   "outputs": [],
   "source": [
    "from transformers import AutoModel, AutoTokenizer\n",
    "# from train import *\n",
    "\n",
    "MODEL_NAME = \"klue/roberta-large\"\n",
    "tokenizer = AutoTokenizer.from_pretrained(MODEL_NAME)"
   ]
  },
  {
   "cell_type": "code",
   "execution_count": 30,
   "id": "b1e1b37a-1313-4480-bb5d-17d0648b74d3",
   "metadata": {},
   "outputs": [],
   "source": [
    "df['con_tok_len'] = df['context'].apply(lambda x: len(tokenizer.tokenize(x)))\n",
    "df['qu_tok_len'] = df['question'].apply(lambda x: len(tokenizer.tokenize(x)))\n",
    "df['ans_tok_len']=[len(tokenizer.tokenize(df['answers'][i]['text'])) for i in range(len(df))]"
   ]
  },
  {
   "cell_type": "code",
   "execution_count": 31,
   "id": "eb91a081-7d94-4508-a9c3-a77b3ff747c2",
   "metadata": {},
   "outputs": [
    {
     "data": {
      "text/html": [
       "<div>\n",
       "<style scoped>\n",
       "    .dataframe tbody tr th:only-of-type {\n",
       "        vertical-align: middle;\n",
       "    }\n",
       "\n",
       "    .dataframe tbody tr th {\n",
       "        vertical-align: top;\n",
       "    }\n",
       "\n",
       "    .dataframe thead th {\n",
       "        text-align: right;\n",
       "    }\n",
       "</style>\n",
       "<table border=\"1\" class=\"dataframe\">\n",
       "  <thead>\n",
       "    <tr style=\"text-align: right;\">\n",
       "      <th></th>\n",
       "      <th>category</th>\n",
       "      <th>document_id</th>\n",
       "      <th>question</th>\n",
       "      <th>answers</th>\n",
       "      <th>context</th>\n",
       "      <th>con_len</th>\n",
       "      <th>qu_len</th>\n",
       "      <th>ans_len</th>\n",
       "      <th>con_tok_len</th>\n",
       "      <th>qu_tok_len</th>\n",
       "      <th>ans_tok_len</th>\n",
       "    </tr>\n",
       "  </thead>\n",
       "  <tbody>\n",
       "    <tr>\n",
       "      <th>0</th>\n",
       "      <td>1 : When(term)</td>\n",
       "      <td>603489</td>\n",
       "      <td>제178회 완주군의회 임시회 회기는 언제로 결정됐어?</td>\n",
       "      <td>{'answer_start': 144, 'text': '4월 20일부터 4월 27일...</td>\n",
       "      <td>@제178회        완주군의회(임시회) 제 1 차 본회의회의록@\\n\\n의사일정...</td>\n",
       "      <td>242</td>\n",
       "      <td>29</td>\n",
       "      <td>21</td>\n",
       "      <td>124</td>\n",
       "      <td>16</td>\n",
       "      <td>14</td>\n",
       "    </tr>\n",
       "    <tr>\n",
       "      <th>1</th>\n",
       "      <td>3 : Who(action)</td>\n",
       "      <td>603489</td>\n",
       "      <td>제178회 완주군의회 임시회 회기를 발의한 사람은 누구인가?</td>\n",
       "      <td>{'answer_start': 119, 'text': '김상식 위원장 외 3인의 의원'}</td>\n",
       "      <td>@제178회        완주군의회(임시회) 제 1 차 본회의회의록@\\n\\n의사일정...</td>\n",
       "      <td>242</td>\n",
       "      <td>33</td>\n",
       "      <td>16</td>\n",
       "      <td>124</td>\n",
       "      <td>18</td>\n",
       "      <td>8</td>\n",
       "    </tr>\n",
       "    <tr>\n",
       "      <th>2</th>\n",
       "      <td>7 : What(conference)</td>\n",
       "      <td>604003</td>\n",
       "      <td>제7대 완주군의회 후반기 상임위원회 의원 선임건을 상정한 회의는 어떤거야?</td>\n",
       "      <td>{'answer_start': 1, 'text': '제214회 완주군의회(임시회) ...</td>\n",
       "      <td>@제214회 완주군의회(임시회) 제1차 본 회 의 회 의 록@\\n\\n의석을 정돈하여...</td>\n",
       "      <td>908</td>\n",
       "      <td>41</td>\n",
       "      <td>26</td>\n",
       "      <td>470</td>\n",
       "      <td>21</td>\n",
       "      <td>16</td>\n",
       "    </tr>\n",
       "    <tr>\n",
       "      <th>3</th>\n",
       "      <td>4 : Who(role)</td>\n",
       "      <td>604003</td>\n",
       "      <td>산업건설위원회 위원들은 누구인가?</td>\n",
       "      <td>{'answer_start': 656, 'text': '서남용 의원님, 윤수봉 의원...</td>\n",
       "      <td>@제214회 완주군의회(임시회) 제1차 본 회 의 회 의 록@\\n\\n의석을 정돈하여...</td>\n",
       "      <td>908</td>\n",
       "      <td>18</td>\n",
       "      <td>43</td>\n",
       "      <td>470</td>\n",
       "      <td>10</td>\n",
       "      <td>26</td>\n",
       "    </tr>\n",
       "    <tr>\n",
       "      <th>4</th>\n",
       "      <td>6 : What(indicator)</td>\n",
       "      <td>603644</td>\n",
       "      <td>완주군의회 의원 의정활동비등 지급에 관한 조례중 개정조례안을 발의한 의원은 몇 명이야?</td>\n",
       "      <td>{'answer_start': 435, 'text': '9인'}</td>\n",
       "      <td>@제109회 전라북도 완주군의회 (임시회) 제2호 본 회 의 회 의 록@\\n\\n의사...</td>\n",
       "      <td>1111</td>\n",
       "      <td>48</td>\n",
       "      <td>2</td>\n",
       "      <td>576</td>\n",
       "      <td>28</td>\n",
       "      <td>2</td>\n",
       "    </tr>\n",
       "  </tbody>\n",
       "</table>\n",
       "</div>"
      ],
      "text/plain": [
       "               category  document_id  \\\n",
       "0        1 : When(term)       603489   \n",
       "1       3 : Who(action)       603489   \n",
       "2  7 : What(conference)       604003   \n",
       "3         4 : Who(role)       604003   \n",
       "4   6 : What(indicator)       603644   \n",
       "\n",
       "                                           question  \\\n",
       "0                     제178회 완주군의회 임시회 회기는 언제로 결정됐어?   \n",
       "1                 제178회 완주군의회 임시회 회기를 발의한 사람은 누구인가?   \n",
       "2         제7대 완주군의회 후반기 상임위원회 의원 선임건을 상정한 회의는 어떤거야?   \n",
       "3                                산업건설위원회 위원들은 누구인가?   \n",
       "4  완주군의회 의원 의정활동비등 지급에 관한 조례중 개정조례안을 발의한 의원은 몇 명이야?   \n",
       "\n",
       "                                             answers  \\\n",
       "0  {'answer_start': 144, 'text': '4월 20일부터 4월 27일...   \n",
       "1  {'answer_start': 119, 'text': '김상식 위원장 외 3인의 의원'}   \n",
       "2  {'answer_start': 1, 'text': '제214회 완주군의회(임시회) ...   \n",
       "3  {'answer_start': 656, 'text': '서남용 의원님, 윤수봉 의원...   \n",
       "4                {'answer_start': 435, 'text': '9인'}   \n",
       "\n",
       "                                             context  con_len  qu_len  \\\n",
       "0  @제178회        완주군의회(임시회) 제 1 차 본회의회의록@\\n\\n의사일정...      242      29   \n",
       "1  @제178회        완주군의회(임시회) 제 1 차 본회의회의록@\\n\\n의사일정...      242      33   \n",
       "2  @제214회 완주군의회(임시회) 제1차 본 회 의 회 의 록@\\n\\n의석을 정돈하여...      908      41   \n",
       "3  @제214회 완주군의회(임시회) 제1차 본 회 의 회 의 록@\\n\\n의석을 정돈하여...      908      18   \n",
       "4  @제109회 전라북도 완주군의회 (임시회) 제2호 본 회 의 회 의 록@\\n\\n의사...     1111      48   \n",
       "\n",
       "   ans_len  con_tok_len  qu_tok_len  ans_tok_len  \n",
       "0       21          124          16           14  \n",
       "1       16          124          18            8  \n",
       "2       26          470          21           16  \n",
       "3       43          470          10           26  \n",
       "4        2          576          28            2  "
      ]
     },
     "execution_count": 31,
     "metadata": {},
     "output_type": "execute_result"
    }
   ],
   "source": [
    "df.head(5)"
   ]
  },
  {
   "cell_type": "code",
   "execution_count": 36,
   "id": "aa913f8c-e513-4148-b8c0-dc0d984aa01b",
   "metadata": {},
   "outputs": [
    {
     "data": {
      "text/plain": [
       "Text(0.5, 1.0, 'Density of tokenized answer length')"
      ]
     },
     "execution_count": 36,
     "metadata": {},
     "output_type": "execute_result"
    },
    {
     "data": {
      "image/png": "[encoded data removed]",
      "text/plain": [
       "<Figure size 864x1080 with 3 Axes>"
      ]
     },
     "metadata": {},
     "output_type": "display_data"
    }
   ],
   "source": [
    "fig, axes = plt.subplots(3, 1, figsize=(12, 15))\n",
    "plt.subplots_adjust(left=0.125, bottom=0.1, right=0.9, top=0.9, wspace=0.2, hspace=0.4)\n",
    "\n",
    "g = sns.distplot(df['con_tok_len'], ax=axes[0])\n",
    "axes[0].set_xlabel(g.get_xlabel(), fontsize=12)\n",
    "axes[0].set_ylabel(g.get_ylabel(), fontsize=12) \n",
    "axes[0].set_title('Density of tokenized context length')\n",
    "\n",
    "\n",
    "g = sns.distplot(df['qu_tok_len'], ax=axes[1])\n",
    "axes[1].set_xlabel(g.get_xlabel(), fontsize=12)\n",
    "axes[1].set_ylabel(g.get_ylabel(), fontsize=12) \n",
    "axes[1].set_title('Density of tokenized question length')\n",
    "\n",
    "g = sns.distplot(df['ans_tok_len'], ax=axes[2])\n",
    "axes[2].set_xlabel(g.get_xlabel(), fontsize=12)\n",
    "axes[2].set_ylabel(g.get_ylabel(), fontsize=12) \n",
    "axes[2].set_title('Density of tokenized answer length')"
   ]
  },
  {
   "cell_type": "markdown",
   "id": "a0016c9c-6308-4750-bc89-832f840f8899",
   "metadata": {},
   "source": [
    "## 통계치"
   ]
  },
  {
   "cell_type": "code",
   "execution_count": 38,
   "id": "db5ddf3f-a479-4cf5-9ffd-557ba3047933",
   "metadata": {},
   "outputs": [
    {
     "data": {
      "text/html": [
       "<div>\n",
       "<style scoped>\n",
       "    .dataframe tbody tr th:only-of-type {\n",
       "        vertical-align: middle;\n",
       "    }\n",
       "\n",
       "    .dataframe tbody tr th {\n",
       "        vertical-align: top;\n",
       "    }\n",
       "\n",
       "    .dataframe thead th {\n",
       "        text-align: right;\n",
       "    }\n",
       "</style>\n",
       "<table border=\"1\" class=\"dataframe\">\n",
       "  <thead>\n",
       "    <tr style=\"text-align: right;\">\n",
       "      <th></th>\n",
       "      <th>document_id</th>\n",
       "      <th>con_len</th>\n",
       "      <th>qu_len</th>\n",
       "      <th>ans_len</th>\n",
       "      <th>con_tok_len</th>\n",
       "      <th>qu_tok_len</th>\n",
       "      <th>ans_tok_len</th>\n",
       "    </tr>\n",
       "  </thead>\n",
       "  <tbody>\n",
       "    <tr>\n",
       "      <th>count</th>\n",
       "      <td>1553.000000</td>\n",
       "      <td>1553.000000</td>\n",
       "      <td>1553.000000</td>\n",
       "      <td>1553.000000</td>\n",
       "      <td>1553.000000</td>\n",
       "      <td>1553.000000</td>\n",
       "      <td>1553.000000</td>\n",
       "    </tr>\n",
       "    <tr>\n",
       "      <th>mean</th>\n",
       "      <td>603888.685769</td>\n",
       "      <td>986.396008</td>\n",
       "      <td>37.855763</td>\n",
       "      <td>20.446233</td>\n",
       "      <td>519.541533</td>\n",
       "      <td>20.334192</td>\n",
       "      <td>11.486156</td>\n",
       "    </tr>\n",
       "    <tr>\n",
       "      <th>std</th>\n",
       "      <td>235.518066</td>\n",
       "      <td>1244.264133</td>\n",
       "      <td>10.542797</td>\n",
       "      <td>39.204327</td>\n",
       "      <td>651.953902</td>\n",
       "      <td>5.651017</td>\n",
       "      <td>19.795930</td>\n",
       "    </tr>\n",
       "    <tr>\n",
       "      <th>min</th>\n",
       "      <td>603471.000000</td>\n",
       "      <td>78.000000</td>\n",
       "      <td>12.000000</td>\n",
       "      <td>1.000000</td>\n",
       "      <td>40.000000</td>\n",
       "      <td>7.000000</td>\n",
       "      <td>1.000000</td>\n",
       "    </tr>\n",
       "    <tr>\n",
       "      <th>25%</th>\n",
       "      <td>603700.000000</td>\n",
       "      <td>274.000000</td>\n",
       "      <td>31.000000</td>\n",
       "      <td>7.000000</td>\n",
       "      <td>144.000000</td>\n",
       "      <td>17.000000</td>\n",
       "      <td>4.000000</td>\n",
       "    </tr>\n",
       "    <tr>\n",
       "      <th>50%</th>\n",
       "      <td>603872.000000</td>\n",
       "      <td>539.000000</td>\n",
       "      <td>37.000000</td>\n",
       "      <td>16.000000</td>\n",
       "      <td>284.000000</td>\n",
       "      <td>20.000000</td>\n",
       "      <td>9.000000</td>\n",
       "    </tr>\n",
       "    <tr>\n",
       "      <th>75%</th>\n",
       "      <td>604078.000000</td>\n",
       "      <td>1054.000000</td>\n",
       "      <td>43.000000</td>\n",
       "      <td>23.000000</td>\n",
       "      <td>543.000000</td>\n",
       "      <td>23.000000</td>\n",
       "      <td>14.000000</td>\n",
       "    </tr>\n",
       "    <tr>\n",
       "      <th>max</th>\n",
       "      <td>604331.000000</td>\n",
       "      <td>10253.000000</td>\n",
       "      <td>98.000000</td>\n",
       "      <td>1367.000000</td>\n",
       "      <td>5176.000000</td>\n",
       "      <td>59.000000</td>\n",
       "      <td>678.000000</td>\n",
       "    </tr>\n",
       "  </tbody>\n",
       "</table>\n",
       "</div>"
      ],
      "text/plain": [
       "         document_id       con_len       qu_len      ans_len  con_tok_len  \\\n",
       "count    1553.000000   1553.000000  1553.000000  1553.000000  1553.000000   \n",
       "mean   603888.685769    986.396008    37.855763    20.446233   519.541533   \n",
       "std       235.518066   1244.264133    10.542797    39.204327   651.953902   \n",
       "min    603471.000000     78.000000    12.000000     1.000000    40.000000   \n",
       "25%    603700.000000    274.000000    31.000000     7.000000   144.000000   \n",
       "50%    603872.000000    539.000000    37.000000    16.000000   284.000000   \n",
       "75%    604078.000000   1054.000000    43.000000    23.000000   543.000000   \n",
       "max    604331.000000  10253.000000    98.000000  1367.000000  5176.000000   \n",
       "\n",
       "        qu_tok_len  ans_tok_len  \n",
       "count  1553.000000  1553.000000  \n",
       "mean     20.334192    11.486156  \n",
       "std       5.651017    19.795930  \n",
       "min       7.000000     1.000000  \n",
       "25%      17.000000     4.000000  \n",
       "50%      20.000000     9.000000  \n",
       "75%      23.000000    14.000000  \n",
       "max      59.000000   678.000000  "
      ]
     },
     "execution_count": 38,
     "metadata": {},
     "output_type": "execute_result"
    }
   ],
   "source": [
    "df.describe()"
   ]
  },
  {
   "cell_type": "markdown",
   "id": "37c439de-e61d-48a5-a141-f900fefc4328",
   "metadata": {},
   "source": [
    "# 멘토님께서 제안하신 answer의 위치 -> max_seq_length,max_answer_length,doc_stride의 근거"
   ]
  },
  {
   "cell_type": "markdown",
   "id": "0697d41e-8521-482f-bc53-de1c3a1599db",
   "metadata": {},
   "source": [
    "### Tokenize 전"
   ]
  },
  {
   "cell_type": "code",
   "execution_count": 53,
   "id": "0b257b53-446d-4b7f-94d8-8d8008610900",
   "metadata": {
    "tags": []
   },
   "outputs": [],
   "source": [
    "df_answer=df[['category','document_id','question','answers','context','con_len','ans_len']]\n",
    "df_answer['ans_start']=[df_answer['answers'][i]['answer_start'] for i in range(len(df_answer))]\n",
    "df_answer['ans_finish']=[df_answer['answers'][i]['answer_start']+len(df_answer['answers'][i]['text']) for i in range(len(df_answer))]\n",
    "df_answer['ans_middle']=(df_answer['ans_start']+df_answer['ans_finish'])/2\n",
    "df_answer['ans_ratio']=df_answer['ans_middle']/df_answer['con_len']"
   ]
  },
  {
   "cell_type": "code",
   "execution_count": 63,
   "id": "e1f626d0-043f-44e8-bb4d-c6cbf6aa2aa7",
   "metadata": {},
   "outputs": [
    {
     "data": {
      "text/html": [
       "<div>\n",
       "<style scoped>\n",
       "    .dataframe tbody tr th:only-of-type {\n",
       "        vertical-align: middle;\n",
       "    }\n",
       "\n",
       "    .dataframe tbody tr th {\n",
       "        vertical-align: top;\n",
       "    }\n",
       "\n",
       "    .dataframe thead th {\n",
       "        text-align: right;\n",
       "    }\n",
       "</style>\n",
       "<table border=\"1\" class=\"dataframe\">\n",
       "  <thead>\n",
       "    <tr style=\"text-align: right;\">\n",
       "      <th></th>\n",
       "      <th>category</th>\n",
       "      <th>document_id</th>\n",
       "      <th>question</th>\n",
       "      <th>answers</th>\n",
       "      <th>context</th>\n",
       "      <th>con_len</th>\n",
       "      <th>ans_len</th>\n",
       "      <th>ans_start</th>\n",
       "      <th>ans_finish</th>\n",
       "      <th>ans_middle</th>\n",
       "      <th>ans_ratio</th>\n",
       "    </tr>\n",
       "  </thead>\n",
       "  <tbody>\n",
       "    <tr>\n",
       "      <th>0</th>\n",
       "      <td>1 : When(term)</td>\n",
       "      <td>603489</td>\n",
       "      <td>제178회 완주군의회 임시회 회기는 언제로 결정됐어?</td>\n",
       "      <td>{'answer_start': 144, 'text': '4월 20일부터 4월 27일...</td>\n",
       "      <td>@제178회        완주군의회(임시회) 제 1 차 본회의회의록@\\n\\n의사일정...</td>\n",
       "      <td>242</td>\n",
       "      <td>21</td>\n",
       "      <td>144</td>\n",
       "      <td>165</td>\n",
       "      <td>154.5</td>\n",
       "      <td>0.638430</td>\n",
       "    </tr>\n",
       "    <tr>\n",
       "      <th>1</th>\n",
       "      <td>3 : Who(action)</td>\n",
       "      <td>603489</td>\n",
       "      <td>제178회 완주군의회 임시회 회기를 발의한 사람은 누구인가?</td>\n",
       "      <td>{'answer_start': 119, 'text': '김상식 위원장 외 3인의 의원'}</td>\n",
       "      <td>@제178회        완주군의회(임시회) 제 1 차 본회의회의록@\\n\\n의사일정...</td>\n",
       "      <td>242</td>\n",
       "      <td>16</td>\n",
       "      <td>119</td>\n",
       "      <td>135</td>\n",
       "      <td>127.0</td>\n",
       "      <td>0.524793</td>\n",
       "    </tr>\n",
       "    <tr>\n",
       "      <th>2</th>\n",
       "      <td>7 : What(conference)</td>\n",
       "      <td>604003</td>\n",
       "      <td>제7대 완주군의회 후반기 상임위원회 의원 선임건을 상정한 회의는 어떤거야?</td>\n",
       "      <td>{'answer_start': 1, 'text': '제214회 완주군의회(임시회) ...</td>\n",
       "      <td>@제214회 완주군의회(임시회) 제1차 본 회 의 회 의 록@\\n\\n의석을 정돈하여...</td>\n",
       "      <td>908</td>\n",
       "      <td>26</td>\n",
       "      <td>1</td>\n",
       "      <td>27</td>\n",
       "      <td>14.0</td>\n",
       "      <td>0.015419</td>\n",
       "    </tr>\n",
       "    <tr>\n",
       "      <th>3</th>\n",
       "      <td>4 : Who(role)</td>\n",
       "      <td>604003</td>\n",
       "      <td>산업건설위원회 위원들은 누구인가?</td>\n",
       "      <td>{'answer_start': 656, 'text': '서남용 의원님, 윤수봉 의원...</td>\n",
       "      <td>@제214회 완주군의회(임시회) 제1차 본 회 의 회 의 록@\\n\\n의석을 정돈하여...</td>\n",
       "      <td>908</td>\n",
       "      <td>43</td>\n",
       "      <td>656</td>\n",
       "      <td>699</td>\n",
       "      <td>677.5</td>\n",
       "      <td>0.746145</td>\n",
       "    </tr>\n",
       "    <tr>\n",
       "      <th>4</th>\n",
       "      <td>6 : What(indicator)</td>\n",
       "      <td>603644</td>\n",
       "      <td>완주군의회 의원 의정활동비등 지급에 관한 조례중 개정조례안을 발의한 의원은 몇 명이야?</td>\n",
       "      <td>{'answer_start': 435, 'text': '9인'}</td>\n",
       "      <td>@제109회 전라북도 완주군의회 (임시회) 제2호 본 회 의 회 의 록@\\n\\n의사...</td>\n",
       "      <td>1111</td>\n",
       "      <td>2</td>\n",
       "      <td>435</td>\n",
       "      <td>437</td>\n",
       "      <td>436.0</td>\n",
       "      <td>0.392439</td>\n",
       "    </tr>\n",
       "  </tbody>\n",
       "</table>\n",
       "</div>"
      ],
      "text/plain": [
       "               category  document_id  \\\n",
       "0        1 : When(term)       603489   \n",
       "1       3 : Who(action)       603489   \n",
       "2  7 : What(conference)       604003   \n",
       "3         4 : Who(role)       604003   \n",
       "4   6 : What(indicator)       603644   \n",
       "\n",
       "                                           question  \\\n",
       "0                     제178회 완주군의회 임시회 회기는 언제로 결정됐어?   \n",
       "1                 제178회 완주군의회 임시회 회기를 발의한 사람은 누구인가?   \n",
       "2         제7대 완주군의회 후반기 상임위원회 의원 선임건을 상정한 회의는 어떤거야?   \n",
       "3                                산업건설위원회 위원들은 누구인가?   \n",
       "4  완주군의회 의원 의정활동비등 지급에 관한 조례중 개정조례안을 발의한 의원은 몇 명이야?   \n",
       "\n",
       "                                             answers  \\\n",
       "0  {'answer_start': 144, 'text': '4월 20일부터 4월 27일...   \n",
       "1  {'answer_start': 119, 'text': '김상식 위원장 외 3인의 의원'}   \n",
       "2  {'answer_start': 1, 'text': '제214회 완주군의회(임시회) ...   \n",
       "3  {'answer_start': 656, 'text': '서남용 의원님, 윤수봉 의원...   \n",
       "4                {'answer_start': 435, 'text': '9인'}   \n",
       "\n",
       "                                             context  con_len  ans_len  \\\n",
       "0  @제178회        완주군의회(임시회) 제 1 차 본회의회의록@\\n\\n의사일정...      242       21   \n",
       "1  @제178회        완주군의회(임시회) 제 1 차 본회의회의록@\\n\\n의사일정...      242       16   \n",
       "2  @제214회 완주군의회(임시회) 제1차 본 회 의 회 의 록@\\n\\n의석을 정돈하여...      908       26   \n",
       "3  @제214회 완주군의회(임시회) 제1차 본 회 의 회 의 록@\\n\\n의석을 정돈하여...      908       43   \n",
       "4  @제109회 전라북도 완주군의회 (임시회) 제2호 본 회 의 회 의 록@\\n\\n의사...     1111        2   \n",
       "\n",
       "   ans_start  ans_finish  ans_middle  ans_ratio  \n",
       "0        144         165       154.5   0.638430  \n",
       "1        119         135       127.0   0.524793  \n",
       "2          1          27        14.0   0.015419  \n",
       "3        656         699       677.5   0.746145  \n",
       "4        435         437       436.0   0.392439  "
      ]
     },
     "execution_count": 63,
     "metadata": {},
     "output_type": "execute_result"
    }
   ],
   "source": [
    "df_answer.head(5)"
   ]
  },
  {
   "cell_type": "code",
   "execution_count": 62,
   "id": "69f973cc-951d-4dd0-a901-38a5ee65d7d5",
   "metadata": {},
   "outputs": [
    {
     "data": {
      "text/plain": [
       "(array([374., 158., 116., 162., 218., 193., 116.,  47., 120.,  49.]),\n",
       " array([8.67453158e-05, 9.95989088e-02, 1.99111072e-01, 2.98623236e-01,\n",
       "        3.98135399e-01, 4.97647563e-01, 5.97159726e-01, 6.96671889e-01,\n",
       "        7.96184053e-01, 8.95696216e-01, 9.95208380e-01]),\n",
       " <a list of 10 Patch objects>)"
      ]
     },
     "execution_count": 62,
     "metadata": {},
     "output_type": "execute_result"
    },
    {
     "data": {
      "image/png": "[encoded data removed]",
      "text/plain": [
       "<Figure size 1080x576 with 1 Axes>"
      ]
     },
     "metadata": {},
     "output_type": "display_data"
    }
   ],
   "source": [
    "plt.hist(df_answer['ans_ratio'].sort_values())"
   ]
  },
  {
   "cell_type": "markdown",
   "id": "f93716e9-93d1-46cf-8ea3-7b373b52f328",
   "metadata": {},
   "source": [
    "### Tokenizer 이후 --> answer_start가 없으니 모르겠음.."
   ]
  },
  {
   "cell_type": "code",
   "execution_count": 65,
   "id": "49727173-5358-493b-a297-10d5b6ebd855",
   "metadata": {},
   "outputs": [
    {
     "data": {
      "text/html": [
       "<div>\n",
       "<style scoped>\n",
       "    .dataframe tbody tr th:only-of-type {\n",
       "        vertical-align: middle;\n",
       "    }\n",
       "\n",
       "    .dataframe tbody tr th {\n",
       "        vertical-align: top;\n",
       "    }\n",
       "\n",
       "    .dataframe thead th {\n",
       "        text-align: right;\n",
       "    }\n",
       "</style>\n",
       "<table border=\"1\" class=\"dataframe\">\n",
       "  <thead>\n",
       "    <tr style=\"text-align: right;\">\n",
       "      <th></th>\n",
       "      <th>category</th>\n",
       "      <th>document_id</th>\n",
       "      <th>question</th>\n",
       "      <th>answers</th>\n",
       "      <th>context</th>\n",
       "      <th>con_len</th>\n",
       "      <th>qu_len</th>\n",
       "      <th>ans_len</th>\n",
       "      <th>con_tok_len</th>\n",
       "      <th>qu_tok_len</th>\n",
       "      <th>ans_tok_len</th>\n",
       "    </tr>\n",
       "  </thead>\n",
       "  <tbody>\n",
       "    <tr>\n",
       "      <th>0</th>\n",
       "      <td>1 : When(term)</td>\n",
       "      <td>603489</td>\n",
       "      <td>제178회 완주군의회 임시회 회기는 언제로 결정됐어?</td>\n",
       "      <td>{'answer_start': 144, 'text': '4월 20일부터 4월 27일...</td>\n",
       "      <td>@제178회        완주군의회(임시회) 제 1 차 본회의회의록@\\n\\n의사일정...</td>\n",
       "      <td>242</td>\n",
       "      <td>29</td>\n",
       "      <td>21</td>\n",
       "      <td>124</td>\n",
       "      <td>16</td>\n",
       "      <td>14</td>\n",
       "    </tr>\n",
       "    <tr>\n",
       "      <th>1</th>\n",
       "      <td>3 : Who(action)</td>\n",
       "      <td>603489</td>\n",
       "      <td>제178회 완주군의회 임시회 회기를 발의한 사람은 누구인가?</td>\n",
       "      <td>{'answer_start': 119, 'text': '김상식 위원장 외 3인의 의원'}</td>\n",
       "      <td>@제178회        완주군의회(임시회) 제 1 차 본회의회의록@\\n\\n의사일정...</td>\n",
       "      <td>242</td>\n",
       "      <td>33</td>\n",
       "      <td>16</td>\n",
       "      <td>124</td>\n",
       "      <td>18</td>\n",
       "      <td>8</td>\n",
       "    </tr>\n",
       "    <tr>\n",
       "      <th>2</th>\n",
       "      <td>7 : What(conference)</td>\n",
       "      <td>604003</td>\n",
       "      <td>제7대 완주군의회 후반기 상임위원회 의원 선임건을 상정한 회의는 어떤거야?</td>\n",
       "      <td>{'answer_start': 1, 'text': '제214회 완주군의회(임시회) ...</td>\n",
       "      <td>@제214회 완주군의회(임시회) 제1차 본 회 의 회 의 록@\\n\\n의석을 정돈하여...</td>\n",
       "      <td>908</td>\n",
       "      <td>41</td>\n",
       "      <td>26</td>\n",
       "      <td>470</td>\n",
       "      <td>21</td>\n",
       "      <td>16</td>\n",
       "    </tr>\n",
       "  </tbody>\n",
       "</table>\n",
       "</div>"
      ],
      "text/plain": [
       "               category  document_id  \\\n",
       "0        1 : When(term)       603489   \n",
       "1       3 : Who(action)       603489   \n",
       "2  7 : What(conference)       604003   \n",
       "\n",
       "                                    question  \\\n",
       "0              제178회 완주군의회 임시회 회기는 언제로 결정됐어?   \n",
       "1          제178회 완주군의회 임시회 회기를 발의한 사람은 누구인가?   \n",
       "2  제7대 완주군의회 후반기 상임위원회 의원 선임건을 상정한 회의는 어떤거야?   \n",
       "\n",
       "                                             answers  \\\n",
       "0  {'answer_start': 144, 'text': '4월 20일부터 4월 27일...   \n",
       "1  {'answer_start': 119, 'text': '김상식 위원장 외 3인의 의원'}   \n",
       "2  {'answer_start': 1, 'text': '제214회 완주군의회(임시회) ...   \n",
       "\n",
       "                                             context  con_len  qu_len  \\\n",
       "0  @제178회        완주군의회(임시회) 제 1 차 본회의회의록@\\n\\n의사일정...      242      29   \n",
       "1  @제178회        완주군의회(임시회) 제 1 차 본회의회의록@\\n\\n의사일정...      242      33   \n",
       "2  @제214회 완주군의회(임시회) 제1차 본 회 의 회 의 록@\\n\\n의석을 정돈하여...      908      41   \n",
       "\n",
       "   ans_len  con_tok_len  qu_tok_len  ans_tok_len  \n",
       "0       21          124          16           14  \n",
       "1       16          124          18            8  \n",
       "2       26          470          21           16  "
      ]
     },
     "execution_count": 65,
     "metadata": {},
     "output_type": "execute_result"
    }
   ],
   "source": [
    "df.head(3)"
   ]
  }
 ],
 "metadata": {
  "kernelspec": {
   "display_name": "Python 3",
   "language": "python",
   "name": "python3"
  },
  "language_info": {
   "codemirror_mode": {
    "name": "ipython",
    "version": 3
   },
   "file_extension": ".py",
   "mimetype": "text/x-python",
   "name": "python",
   "nbconvert_exporter": "python",
   "pygments_lexer": "ipython3",
   "version": "3.8.5"
  }
 },
 "nbformat": 4,
 "nbformat_minor": 5
}
