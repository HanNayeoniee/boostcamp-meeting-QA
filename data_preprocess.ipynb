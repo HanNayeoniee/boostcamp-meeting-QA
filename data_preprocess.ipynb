{
 "cells": [
  {
   "cell_type": "code",
   "execution_count": null,
   "id": "c071b3b4-a99b-4825-a38a-710ef0930f43",
   "metadata": {},
   "outputs": [],
   "source": [
    "import json\n",
    "import pandas as pd"
   ]
  },
  {
   "cell_type": "code",
   "execution_count": null,
   "id": "415558bb-320f-4412-95fe-13d38f733826",
   "metadata": {},
   "outputs": [],
   "source": [
    "raw_path = \"./data/man_answers.json\"\n",
    "\n",
    "with open(raw_path, \"r\") as json_file:\n",
    "    json_data = json.load(json_file)"
   ]
  },
  {
   "cell_type": "markdown",
   "id": "d1c9691c-385e-4316-a206-9b97b4504a27",
   "metadata": {},
   "source": [
    "## 데이터 로드 해야하는 것\n",
    "- 데이터 쪼개기 (context, question, document_id, answers [{'answer_start', 'text'}] )\n",
    "- Question 별로 유형 분류\n",
    "- title 쪼개는 것도 (보류)"
   ]
  },
  {
   "cell_type": "code",
   "execution_count": null,
   "id": "27fd2b22-2d05-445f-9860-b510fc02056b",
   "metadata": {
    "scrolled": true,
    "tags": []
   },
   "outputs": [],
   "source": [
    "json_data['data']"
   ]
  },
  {
   "cell_type": "code",
   "execution_count": null,
   "id": "2bf3da5e-57fd-489f-a088-5333862e78aa",
   "metadata": {},
   "outputs": [],
   "source": [
    "def answer_pick(answers):\n",
    "    dict_answer = {\"answer_start\": answers['answer_start'],\n",
    "                   \"text\": answers['text']\n",
    "                  }\n",
    "    return dict_answer"
   ]
  },
  {
   "cell_type": "code",
   "execution_count": null,
   "id": "cb0c1f2f-bc4a-4f65-9191-3f89dc012b0a",
   "metadata": {
    "scrolled": true,
    "tags": []
   },
   "outputs": [],
   "source": [
    "dict_data = []\n",
    "# json parsing\n",
    "for i, v in enumerate(json_data['data']):\n",
    "    content = v['paragraphs'][0]\n",
    "    for qas_dicts in content['qas']:\n",
    "        qas_dict = qas_dicts.copy()\n",
    "        qas_dict['context'] = content['context']\n",
    "        qas_dict['document_id'] = content['document_id']\n",
    "        qas_dict['answers'] = answer_pick(qas_dict['answers'][0])\n",
    "        dict_data.append(qas_dict)\n",
    "\n",
    "# Dataframe parsing / category split\n",
    "df = pd.DataFrame(dict_data)\n",
    "df['category'] = df.question.str.split('_').str[0]\n",
    "df['question'] = df.question.str.split('_').str[1]\n",
    "df.head()"
   ]
  },
  {
   "cell_type": "code",
   "execution_count": null,
   "id": "eb069404-cbad-48f7-8510-c84d19ae1420",
   "metadata": {},
   "outputs": [],
   "source": [
    "# reorder\n",
    "data_df = df[['category', 'document_id', 'question', 'answers', 'context']]"
   ]
  },
  {
   "cell_type": "code",
   "execution_count": null,
   "id": "ed540af3-a985-437c-a741-ee272925950b",
   "metadata": {},
   "outputs": [],
   "source": [
    "data_df.head()"
   ]
  },
  {
   "cell_type": "code",
   "execution_count": null,
   "id": "f7e1152a-c4a7-4c7a-ac1a-cfb993d6181e",
   "metadata": {},
   "outputs": [],
   "source": [
    "data_df.to_csv(\"origin_data.csv\", mode='w', index=False)"
   ]
  },
  {
   "cell_type": "code",
   "execution_count": null,
   "id": "5c9ec746-7a9c-45c8-a232-cc126dbaa185",
   "metadata": {},
   "outputs": [],
   "source": []
  }
 ],
 "metadata": {
  "kernelspec": {
   "display_name": "Python 3 (ipykernel)",
   "language": "python",
   "name": "python3"
  },
  "language_info": {
   "codemirror_mode": {
    "name": "ipython",
    "version": 3
   },
   "file_extension": ".py",
   "mimetype": "text/x-python",
   "name": "python",
   "nbconvert_exporter": "python",
   "pygments_lexer": "ipython3",
   "version": "3.8.5"
  }
 },
 "nbformat": 4,
 "nbformat_minor": 5
}
