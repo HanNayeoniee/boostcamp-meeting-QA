{
 "cells": [
  {
   "cell_type": "markdown",
   "id": "f359284c",
   "metadata": {},
   "source": [
    "baseline.ipynb<br>\n",
    ".. └ data<br>\n",
    ".... ├ train.json<br>\n",
    ".... ├ test.json<br>\n",
    ".... └ sample_submission.csv<br>"
   ]
  },
  {
   "cell_type": "markdown",
   "id": "ffe52546",
   "metadata": {},
   "source": [
    "# 사용 패키지"
   ]
  },
  {
   "cell_type": "code",
   "execution_count": null,
   "id": "457a6a9a-ce8b-4b78-803e-966e11241cab",
   "metadata": {},
   "outputs": [],
   "source": [
    "# ### 서버(우분투)에 KoNLPy 설치하기: https://konlpy.org/ko/v0.5.2/install/\n",
    "\n",
    "# ### 1. jdk 설치\n",
    "# sudo apt-get install g++ openjdk-8-jdk python3-dev python3-pip curl\n",
    "\n",
    "# ### 2. konlpy 설치\n",
    "# python3 -m pip install --upgrade pip\n",
    "# python3 -m pip install konlpy\n",
    "\n",
    "# ### 3. Mecab 설치\n",
    "# sudo apt-get install curl git\n",
    "# bash <(curl -s https://raw.githubusercontent.com/konlpy/konlpy/master/scripts/mecab.sh)"
   ]
  },
  {
   "cell_type": "code",
   "execution_count": 18,
   "id": "fab67ac8",
   "metadata": {},
   "outputs": [],
   "source": [
    "import pandas as pd\n",
    "import numpy as np\n",
    "import matplotlib.pyplot as plt\n",
    "import json\n",
    "import os\n",
    "import random\n",
    "import math\n",
    "import copy\n",
    "import gc\n",
    "from tqdm import tqdm\n",
    "from glob import glob\n",
    "from konlpy.tag import Mecab\n",
    "\n",
    "import torch\n",
    "from torch import nn\n",
    "from torch.utils.data import Dataset, DataLoader\n",
    "\n",
    "import warnings\n",
    "warnings.filterwarnings(action='ignore')"
   ]
  },
  {
   "cell_type": "markdown",
   "id": "4cac5c9f",
   "metadata": {},
   "source": [
    "## 랜덤 시드 고정"
   ]
  },
  {
   "cell_type": "code",
   "execution_count": 19,
   "id": "b1edf080",
   "metadata": {},
   "outputs": [],
   "source": [
    "def seed_everything(seed: int = 42):\n",
    "    random.seed(seed)\n",
    "    np.random.seed(seed)\n",
    "    os.environ[\"PYTHONHASHSEED\"] = str(seed)\n",
    "    torch.manual_seed(seed)\n",
    "    torch.cuda.manual_seed(seed)  # type: ignore\n",
    "    torch.backends.cudnn.deterministic = True  # type: ignore\n",
    "    torch.backends.cudnn.benchmark = True  # type: ignore"
   ]
  },
  {
   "cell_type": "code",
   "execution_count": 20,
   "id": "8f965932",
   "metadata": {},
   "outputs": [],
   "source": [
    "seed_everything(42)"
   ]
  },
  {
   "cell_type": "markdown",
   "id": "47e32791",
   "metadata": {},
   "source": [
    "# 데이터 로드"
   ]
  },
  {
   "cell_type": "code",
   "execution_count": 21,
   "id": "3683af59",
   "metadata": {},
   "outputs": [],
   "source": [
    "DIR = \"data/\"\n",
    "TRAIN_SOURCE = os.path.join(DIR, \"train.json\")\n",
    "TEST_SOURCE = os.path.join(DIR, \"test.json\")"
   ]
  },
  {
   "cell_type": "code",
   "execution_count": 22,
   "id": "cdd1171d",
   "metadata": {},
   "outputs": [],
   "source": [
    "with open(TRAIN_SOURCE) as f:\n",
    "    TRAIN_DATA = json.loads(f.read())\n",
    "    \n",
    "with open(TEST_SOURCE) as f:\n",
    "    TEST_DATA = json.loads(f.read())"
   ]
  },
  {
   "cell_type": "code",
   "execution_count": 23,
   "id": "07943cd4",
   "metadata": {},
   "outputs": [],
   "source": [
    "train = pd.DataFrame(columns=['uid', 'title', 'region', 'context', 'summary'])\n",
    "uid = 1000\n",
    "for data in TRAIN_DATA:\n",
    "    for agenda in data['context'].keys():\n",
    "        context = ''\n",
    "        for line in data['context'][agenda]:\n",
    "            context += data['context'][agenda][line]\n",
    "            # context += ' '\n",
    "            context += '\\n\\n'  # 태깅할 때 보기 편하게 개행 2번\n",
    "            \n",
    "        train.loc[uid, 'uid'] = uid\n",
    "        train.loc[uid, 'title'] = data['title']\n",
    "        train.loc[uid, 'region'] = data['region']\n",
    "        train.loc[uid, 'context'] = context[:-1]\n",
    "        train.loc[uid, 'summary'] = data['label'][agenda]['summary']\n",
    "        uid += 1\n",
    "\n",
    "test = pd.DataFrame(columns=['uid', 'title', 'region', 'context'])\n",
    "uid = 2000\n",
    "for data in TEST_DATA:\n",
    "    for agenda in data['context'].keys():\n",
    "        context = ''\n",
    "        for line in data['context'][agenda]:\n",
    "            context += data['context'][agenda][line]\n",
    "            # context += ' '\n",
    "            context += '\\n\\n'  # 태깅할 때 보기 편하게 개행 2번\n",
    "        test.loc[uid, 'uid'] = uid\n",
    "        test.loc[uid, 'title'] = data['title']\n",
    "        test.loc[uid, 'region'] = data['region']\n",
    "        test.loc[uid, 'context'] = context[:-1]\n",
    "        uid += 1"
   ]
  },
  {
   "cell_type": "code",
   "execution_count": 24,
   "id": "4768172a",
   "metadata": {},
   "outputs": [],
   "source": [
    "train['total'] = train.title + ' ' + train.region + ' ' + train.context\n",
    "test['total'] = test.title + ' ' + test.region + ' ' + test.context"
   ]
  },
  {
   "cell_type": "code",
   "execution_count": 25,
   "id": "6d12122d",
   "metadata": {},
   "outputs": [
    {
     "data": {
      "text/html": [
       "<div>\n",
       "<style scoped>\n",
       "    .dataframe tbody tr th:only-of-type {\n",
       "        vertical-align: middle;\n",
       "    }\n",
       "\n",
       "    .dataframe tbody tr th {\n",
       "        vertical-align: top;\n",
       "    }\n",
       "\n",
       "    .dataframe thead th {\n",
       "        text-align: right;\n",
       "    }\n",
       "</style>\n",
       "<table border=\"1\" class=\"dataframe\">\n",
       "  <thead>\n",
       "    <tr style=\"text-align: right;\">\n",
       "      <th></th>\n",
       "      <th>uid</th>\n",
       "      <th>title</th>\n",
       "      <th>region</th>\n",
       "      <th>context</th>\n",
       "      <th>summary</th>\n",
       "      <th>total</th>\n",
       "    </tr>\n",
       "  </thead>\n",
       "  <tbody>\n",
       "    <tr>\n",
       "      <th>1000</th>\n",
       "      <td>1000</td>\n",
       "      <td>제207회 완주군의회(임시회) 제 1 차 본회의회의록</td>\n",
       "      <td>완주</td>\n",
       "      <td>의석을 정돈하여 주시기 바랍니다. 성원이 되었으므로 제207회 완주군의회 임시회 제...</td>\n",
       "      <td>제207회 완주군의회 임시회 제1차 본회의 개의 선포.</td>\n",
       "      <td>제207회 완주군의회(임시회) 제 1 차 본회의회의록 완주 의석을 정돈하여 주시기 ...</td>\n",
       "    </tr>\n",
       "    <tr>\n",
       "      <th>1001</th>\n",
       "      <td>1001</td>\n",
       "      <td>제207회 완주군의회(임시회) 제 1 차 본회의회의록</td>\n",
       "      <td>완주</td>\n",
       "      <td>의사팀장 수고하셨습니다. 먼저 의사일정 제1항 제207회 완주군의회 임시회 회기 결...</td>\n",
       "      <td>제207회 완주군의회 임시회 회기는 8월 26일부터 9월 4일까지 10일간으로 가결됨.</td>\n",
       "      <td>제207회 완주군의회(임시회) 제 1 차 본회의회의록 완주 의사팀장 수고하셨습니다....</td>\n",
       "    </tr>\n",
       "    <tr>\n",
       "      <th>1002</th>\n",
       "      <td>1002</td>\n",
       "      <td>제207회 완주군의회(임시회) 제 1 차 본회의회의록</td>\n",
       "      <td>완주</td>\n",
       "      <td>다음은 의사일정 제2항 제207회 완주군의회 임시회 회의록 서명의원 선출의 건을 상...</td>\n",
       "      <td>제207회 완주군의회 임시회 회의록 서명의원으로 최등원 의원과 박웅배 의원이 선출됨.</td>\n",
       "      <td>제207회 완주군의회(임시회) 제 1 차 본회의회의록 완주 다음은 의사일정 제2항 ...</td>\n",
       "    </tr>\n",
       "    <tr>\n",
       "      <th>1003</th>\n",
       "      <td>1003</td>\n",
       "      <td>제207회 완주군의회(임시회) 제 1 차 본회의회의록</td>\n",
       "      <td>완주</td>\n",
       "      <td>다음은 의사일정 제3항 본회의 휴회의 건을 상정합니다. 상임의원회 의정활동을 위하여...</td>\n",
       "      <td>8월 27일부터 9월 3일까지 8일간 휴회가 가결됨. 제2차 본회의는 9월 4일 오...</td>\n",
       "      <td>제207회 완주군의회(임시회) 제 1 차 본회의회의록 완주 다음은 의사일정 제3항 ...</td>\n",
       "    </tr>\n",
       "    <tr>\n",
       "      <th>1004</th>\n",
       "      <td>1004</td>\n",
       "      <td>제251회 완주군의회(제1차 정례회) 제1차 본 회 의 회 의 록</td>\n",
       "      <td>완주</td>\n",
       "      <td>의석을 정돈하여 주시기 바랍니다. 성원이 되었으므로 제251회 완주군의회 제1차 정...</td>\n",
       "      <td>제251회 완주군의회 제1차 정례회 제1차 본회의 개의 선포.</td>\n",
       "      <td>제251회 완주군의회(제1차 정례회) 제1차 본 회 의 회 의 록 완주 의석을 정돈...</td>\n",
       "    </tr>\n",
       "  </tbody>\n",
       "</table>\n",
       "</div>"
      ],
      "text/plain": [
       "       uid                                 title region  \\\n",
       "1000  1000         제207회 완주군의회(임시회) 제 1 차 본회의회의록     완주   \n",
       "1001  1001         제207회 완주군의회(임시회) 제 1 차 본회의회의록     완주   \n",
       "1002  1002         제207회 완주군의회(임시회) 제 1 차 본회의회의록     완주   \n",
       "1003  1003         제207회 완주군의회(임시회) 제 1 차 본회의회의록     완주   \n",
       "1004  1004  제251회 완주군의회(제1차 정례회) 제1차 본 회 의 회 의 록     완주   \n",
       "\n",
       "                                                context  \\\n",
       "1000  의석을 정돈하여 주시기 바랍니다. 성원이 되었으므로 제207회 완주군의회 임시회 제...   \n",
       "1001  의사팀장 수고하셨습니다. 먼저 의사일정 제1항 제207회 완주군의회 임시회 회기 결...   \n",
       "1002  다음은 의사일정 제2항 제207회 완주군의회 임시회 회의록 서명의원 선출의 건을 상...   \n",
       "1003  다음은 의사일정 제3항 본회의 휴회의 건을 상정합니다. 상임의원회 의정활동을 위하여...   \n",
       "1004  의석을 정돈하여 주시기 바랍니다. 성원이 되었으므로 제251회 완주군의회 제1차 정...   \n",
       "\n",
       "                                                summary  \\\n",
       "1000                     제207회 완주군의회 임시회 제1차 본회의 개의 선포.   \n",
       "1001   제207회 완주군의회 임시회 회기는 8월 26일부터 9월 4일까지 10일간으로 가결됨.   \n",
       "1002    제207회 완주군의회 임시회 회의록 서명의원으로 최등원 의원과 박웅배 의원이 선출됨.   \n",
       "1003  8월 27일부터 9월 3일까지 8일간 휴회가 가결됨. 제2차 본회의는 9월 4일 오...   \n",
       "1004                 제251회 완주군의회 제1차 정례회 제1차 본회의 개의 선포.   \n",
       "\n",
       "                                                  total  \n",
       "1000  제207회 완주군의회(임시회) 제 1 차 본회의회의록 완주 의석을 정돈하여 주시기 ...  \n",
       "1001  제207회 완주군의회(임시회) 제 1 차 본회의회의록 완주 의사팀장 수고하셨습니다....  \n",
       "1002  제207회 완주군의회(임시회) 제 1 차 본회의회의록 완주 다음은 의사일정 제2항 ...  \n",
       "1003  제207회 완주군의회(임시회) 제 1 차 본회의회의록 완주 다음은 의사일정 제3항 ...  \n",
       "1004  제251회 완주군의회(제1차 정례회) 제1차 본 회 의 회 의 록 완주 의석을 정돈...  "
      ]
     },
     "execution_count": 25,
     "metadata": {},
     "output_type": "execute_result"
    }
   ],
   "source": [
    "train.head()"
   ]
  },
  {
   "cell_type": "code",
   "execution_count": 26,
   "id": "9dbef03a-2418-4496-a65d-286e9c96bbb2",
   "metadata": {},
   "outputs": [
    {
     "data": {
      "text/plain": [
       "'의사일정 제1항, 2014년도 제2회 세입ㆍ세출 추가경정예산안 승인의 건, 의사일정 제2항, 2014년도 기금운용계획변경안 승인의 건을 일괄 상정합니다.\\n\\n예산결산특별위원회 위원장이신 한동완 위원장께서는 나오셔서 보고해 주시기 바랍니다.\\n\\n예산결산특별위원회위원장 한동완 의원입니다. 지난 12월 16일부터 12월 18일까지 3일간에 걸쳐 실시한 2014년도 제2회 세입ㆍ세출 추가경정예산안 및 기금운용계획변경안에 대한 심사 결과를 보고드리겠습니다.\\n\\n2014년도 제2회 세입ㆍ세출 추가경정예산안은 일반회계와 11개의 특별회계 및 기금운용계획변경안이 제출되어 본 위원을 포함한 일곱 분의 위원님과 부군수님, 실과소장 여러분이 참석한 가운데 진지하고 심도 있게 예산안을 심사하였다고 생각합니다.\\n\\n그럼 보고사항으로, 먼저 3페이지입니다. 본 위원회에서 심사한 2014년도 제2회 추가경정예산안 총 예산규모는 4,782억 6,724만 9천 원으로 일반회계 세입ㆍ세출예산액은 4,036억 6,377만 4천 원이며, 11개 특별회계 예산은 746억 347만 5천 원으로 편성되었으며, 3페이지부터 9페이지까지는 일반회계 및 특별회계, 기금운용은 유인물로 갈음하겠습니다.\\n\\n다음은 10페이지입니다. 지난 12월 16일 예산안 제출 후 변경된 사업 일부 추가에 따라 2014년도 제2회 세입ㆍ세출 추가경정예산안에 대한 수정예산안이 제출되어 본예산과 함께 심사하였으며, 기정예산액과 동일한 규모로 10페이지부터 15페이지까지 유인물을 참고하여 주시기 바랍니다.\\n\\n다음은 16페이지 전문위원 검토보고 요지는 생략하겠으며, 예산심사 결과에 대한 총평을 말씀드리겠습니다. 예산결산특별위원회에서는 2014년도 제2회 추가경정예산안에 대하여 충분한 설명을 듣고 요구된 예산의 효과성과 필요성, 국도비 보조사업 조정과 예산 편성상의 문제점을 다각도로 검토함으로써 예산 운용의 내실화를 위해 심도 있게 심사를 하였습니다. 심사 결과 제2회 추가경정예산안은 인건비, 공공요금 등 법정 및 경상적 경비를 조정하고, 국도비 보조사업의 신규ㆍ조정ㆍ변경 및 완료사업에 대한 집행잔액 반납과 사회복지 분야, 농ㆍ축산 경쟁력강화 분야에 중점 투자하여 편성한 점을 대체로 합리적인 예산편성 및 재원배분이 이루어졌다고 사료됩니다. 다만 예산 미집행에 따른 반납 및 불용액에 대해서는 본예산 편성 시 철저한 계획으로 최소화하여 효율적 예산집행이 될 수 있도록 노력하여 주시기 바랍니다.\\n\\n삭감 사유별 내역은 해당사항 없으며, 17페이지 심사 결과를 말씀드리겠습니다. 2014년도 제2회 추가경정예산안 일반회계 세입ㆍ세출예산 4,036억 6,377만 4천 원과 11개 특별회계 세입ㆍ세출예산 746억 347만 5천 원으로, 총 예산규모 4,782억 6,724만 9천 원이며, 요구예산 중 일반회계 세입예산은 조정 없이 의결하여 총 예산규모는 변동사항이 없습니다. 일반회계 세출예산은 인건비, 공공요금 등 법정 및 경상적 경비를 조정하고, 국도비 사업 정산에 따른 집행잔액분 등으로 불가피한 예산임을 감안하여 집행부에서 제출된 원안대로 의결하였습니다. 특별회계 및 2014년도 기금운용계획변경안은 제출된 원안대로 의결하였습니다.\\n\\n아울러 2014년도 제2회 세입ㆍ세출 추가경정예산안 증감내역 및 항목별 내역은 18페이지부터 20페이지까지 참고하여 주시기 바랍니다.\\n\\n이상으로 본 위원회에서 심사한 2014년도 제2회 세입ㆍ세출 추가경정예산안 및 기금운용계획변경안에 대한 심사 결과를 보고하오니 만장일치로 의결하여 주실 것을 당부드리며, 이상으로 심사보고를 마치겠습니다. 감사합니다.\\n\\n한동완 의원님 수고하셨습니다.\\n\\n그러면 보고를 들으신 바대로 2014년도 제2회 세입ㆍ세출 추가경정예산안 및 기금운용계획변경안을 예산결산특별위원회 원안대로 의결하고자 하는데, 의원 여러분! 이의 없으십니까?\\n\\n(「없습니다」하는 위원 있음)\\n\\n이의가 없으므로 의사일정 제1항, 2014년도 제2회 세입ㆍ세출 추가경정예산안 승인의 건과 의사일정 제2항, 2014년도 기금운용계획변경안 승인의 건은 각각 가결되었음을 선포합니다.\\n'"
      ]
     },
     "execution_count": 26,
     "metadata": {},
     "output_type": "execute_result"
    }
   ],
   "source": [
    "train['context'].iloc[462]"
   ]
  },
  {
   "cell_type": "code",
   "execution_count": 27,
   "id": "a82f3c34-8c08-4de9-8a5e-fe5a43c213ab",
   "metadata": {},
   "outputs": [
    {
     "data": {
      "text/plain": [
       "1000"
      ]
     },
     "execution_count": 27,
     "metadata": {},
     "output_type": "execute_result"
    }
   ],
   "source": [
    "train['uid'].iloc[0]"
   ]
  },
  {
   "cell_type": "markdown",
   "id": "82230838-7f08-4542-a391-b2e66b494b02",
   "metadata": {},
   "source": [
    "### uid와 context만 뽑아 태깅 문서로 저장 (화자 정보는 날아감) - train data"
   ]
  },
  {
   "cell_type": "code",
   "execution_count": 28,
   "id": "1ce2a38c-0074-4ffb-a8d0-d4fb7669909e",
   "metadata": {},
   "outputs": [
    {
     "name": "stdout",
     "output_type": "stream",
     "text": [
      "train data 개수:  2994\n"
     ]
    },
    {
     "data": {
      "text/html": [
       "<div>\n",
       "<style scoped>\n",
       "    .dataframe tbody tr th:only-of-type {\n",
       "        vertical-align: middle;\n",
       "    }\n",
       "\n",
       "    .dataframe tbody tr th {\n",
       "        vertical-align: top;\n",
       "    }\n",
       "\n",
       "    .dataframe thead th {\n",
       "        text-align: right;\n",
       "    }\n",
       "</style>\n",
       "<table border=\"1\" class=\"dataframe\">\n",
       "  <thead>\n",
       "    <tr style=\"text-align: right;\">\n",
       "      <th></th>\n",
       "      <th>uid</th>\n",
       "      <th>document_text</th>\n",
       "    </tr>\n",
       "  </thead>\n",
       "  <tbody>\n",
       "    <tr>\n",
       "      <th>1000</th>\n",
       "      <td>1000</td>\n",
       "      <td>의석을 정돈하여 주시기 바랍니다. 성원이 되었으므로 제207회 완주군의회 임시회 제...</td>\n",
       "    </tr>\n",
       "    <tr>\n",
       "      <th>1001</th>\n",
       "      <td>1001</td>\n",
       "      <td>의사팀장 수고하셨습니다. 먼저 의사일정 제1항 제207회 완주군의회 임시회 회기 결...</td>\n",
       "    </tr>\n",
       "    <tr>\n",
       "      <th>1002</th>\n",
       "      <td>1002</td>\n",
       "      <td>다음은 의사일정 제2항 제207회 완주군의회 임시회 회의록 서명의원 선출의 건을 상...</td>\n",
       "    </tr>\n",
       "    <tr>\n",
       "      <th>1003</th>\n",
       "      <td>1003</td>\n",
       "      <td>다음은 의사일정 제3항 본회의 휴회의 건을 상정합니다. 상임의원회 의정활동을 위하여...</td>\n",
       "    </tr>\n",
       "    <tr>\n",
       "      <th>1004</th>\n",
       "      <td>1004</td>\n",
       "      <td>의석을 정돈하여 주시기 바랍니다. 성원이 되었으므로 제251회 완주군의회 제1차 정...</td>\n",
       "    </tr>\n",
       "  </tbody>\n",
       "</table>\n",
       "</div>"
      ],
      "text/plain": [
       "       uid                                      document_text\n",
       "1000  1000  의석을 정돈하여 주시기 바랍니다. 성원이 되었으므로 제207회 완주군의회 임시회 제...\n",
       "1001  1001  의사팀장 수고하셨습니다. 먼저 의사일정 제1항 제207회 완주군의회 임시회 회기 결...\n",
       "1002  1002  다음은 의사일정 제2항 제207회 완주군의회 임시회 회의록 서명의원 선출의 건을 상...\n",
       "1003  1003  다음은 의사일정 제3항 본회의 휴회의 건을 상정합니다. 상임의원회 의정활동을 위하여...\n",
       "1004  1004  의석을 정돈하여 주시기 바랍니다. 성원이 되었으므로 제251회 완주군의회 제1차 정..."
      ]
     },
     "execution_count": 28,
     "metadata": {},
     "output_type": "execute_result"
    }
   ],
   "source": [
    "train_doc = pd.DataFrame()\n",
    "train_doc['uid'] = train['uid']\n",
    "train_doc['document_text'] = train['context']\n",
    "\n",
    "\n",
    "save_file = \"train_doc.csv\"\n",
    "save_dir = os.path.join(DIR, save_file)\n",
    "train_doc.to_csv(save_dir, header=True, index=False)\n",
    "\n",
    "\n",
    "print(\"train data 개수: \", len(train_doc))\n",
    "train_doc.head()"
   ]
  },
  {
   "cell_type": "code",
   "execution_count": 29,
   "id": "2982866b",
   "metadata": {},
   "outputs": [
    {
     "data": {
      "text/plain": [
       "(2994, 6)"
      ]
     },
     "execution_count": 29,
     "metadata": {},
     "output_type": "execute_result"
    }
   ],
   "source": [
    "train.shape"
   ]
  },
  {
   "cell_type": "markdown",
   "id": "44ccf88f-fdc2-4864-86b7-de077ebc66f4",
   "metadata": {},
   "source": [
    "### uid와 context만 뽑아 태깅 문서로 저장 (화자 정보는 날아감) - test data"
   ]
  },
  {
   "cell_type": "code",
   "execution_count": 30,
   "id": "db3b7c36",
   "metadata": {},
   "outputs": [
    {
     "data": {
      "text/html": [
       "<div>\n",
       "<style scoped>\n",
       "    .dataframe tbody tr th:only-of-type {\n",
       "        vertical-align: middle;\n",
       "    }\n",
       "\n",
       "    .dataframe tbody tr th {\n",
       "        vertical-align: top;\n",
       "    }\n",
       "\n",
       "    .dataframe thead th {\n",
       "        text-align: right;\n",
       "    }\n",
       "</style>\n",
       "<table border=\"1\" class=\"dataframe\">\n",
       "  <thead>\n",
       "    <tr style=\"text-align: right;\">\n",
       "      <th></th>\n",
       "      <th>uid</th>\n",
       "      <th>title</th>\n",
       "      <th>region</th>\n",
       "      <th>context</th>\n",
       "      <th>total</th>\n",
       "    </tr>\n",
       "  </thead>\n",
       "  <tbody>\n",
       "    <tr>\n",
       "      <th>2000</th>\n",
       "      <td>2000</td>\n",
       "      <td>제235회    본회의 제1차(2012.06.21.)</td>\n",
       "      <td>음성</td>\n",
       "      <td>의석을 정돈하여 주시기 바랍니다.\\n\\n성원이 되었으므로 지금부터 음성군의회 제23...</td>\n",
       "      <td>제235회    본회의 제1차(2012.06.21.) 음성 의석을 정돈하여 주시기 ...</td>\n",
       "    </tr>\n",
       "    <tr>\n",
       "      <th>2001</th>\n",
       "      <td>2001</td>\n",
       "      <td>제235회    본회의 제1차(2012.06.21.)</td>\n",
       "      <td>음성</td>\n",
       "      <td>의사일정 제1항, 음성군의회 제235회 제1차 정례회 회기결정의 건을 상정합니다.\\...</td>\n",
       "      <td>제235회    본회의 제1차(2012.06.21.) 음성 의사일정 제1항, 음성군...</td>\n",
       "    </tr>\n",
       "    <tr>\n",
       "      <th>2002</th>\n",
       "      <td>2002</td>\n",
       "      <td>제235회    본회의 제1차(2012.06.21.)</td>\n",
       "      <td>음성</td>\n",
       "      <td>의사일정 제2항, 회의록 서명의원 선출의 건을 상정합니다.\\n\\n제235회 제1차 ...</td>\n",
       "      <td>제235회    본회의 제1차(2012.06.21.) 음성 의사일정 제2항, 회의록...</td>\n",
       "    </tr>\n",
       "    <tr>\n",
       "      <th>2003</th>\n",
       "      <td>2003</td>\n",
       "      <td>제235회    본회의 제1차(2012.06.21.)</td>\n",
       "      <td>음성</td>\n",
       "      <td>의사일정 제3항, 예산결산특별위원회 구성의 건을 상정합니다.\\n\\n예산결산특별위원회...</td>\n",
       "      <td>제235회    본회의 제1차(2012.06.21.) 음성 의사일정 제3항, 예산결...</td>\n",
       "    </tr>\n",
       "    <tr>\n",
       "      <th>2004</th>\n",
       "      <td>2004</td>\n",
       "      <td>제235회    본회의 제1차(2012.06.21.)</td>\n",
       "      <td>음성</td>\n",
       "      <td>의사일정 제4항, 환경분야 현지확인 특별위원회 구성결의안을 상정합니다.\\n\\n대표발...</td>\n",
       "      <td>제235회    본회의 제1차(2012.06.21.) 음성 의사일정 제4항, 환경분...</td>\n",
       "    </tr>\n",
       "  </tbody>\n",
       "</table>\n",
       "</div>"
      ],
      "text/plain": [
       "       uid                          title region  \\\n",
       "2000  2000  제235회    본회의 제1차(2012.06.21.)     음성   \n",
       "2001  2001  제235회    본회의 제1차(2012.06.21.)     음성   \n",
       "2002  2002  제235회    본회의 제1차(2012.06.21.)     음성   \n",
       "2003  2003  제235회    본회의 제1차(2012.06.21.)     음성   \n",
       "2004  2004  제235회    본회의 제1차(2012.06.21.)     음성   \n",
       "\n",
       "                                                context  \\\n",
       "2000  의석을 정돈하여 주시기 바랍니다.\\n\\n성원이 되었으므로 지금부터 음성군의회 제23...   \n",
       "2001  의사일정 제1항, 음성군의회 제235회 제1차 정례회 회기결정의 건을 상정합니다.\\...   \n",
       "2002  의사일정 제2항, 회의록 서명의원 선출의 건을 상정합니다.\\n\\n제235회 제1차 ...   \n",
       "2003  의사일정 제3항, 예산결산특별위원회 구성의 건을 상정합니다.\\n\\n예산결산특별위원회...   \n",
       "2004  의사일정 제4항, 환경분야 현지확인 특별위원회 구성결의안을 상정합니다.\\n\\n대표발...   \n",
       "\n",
       "                                                  total  \n",
       "2000  제235회    본회의 제1차(2012.06.21.) 음성 의석을 정돈하여 주시기 ...  \n",
       "2001  제235회    본회의 제1차(2012.06.21.) 음성 의사일정 제1항, 음성군...  \n",
       "2002  제235회    본회의 제1차(2012.06.21.) 음성 의사일정 제2항, 회의록...  \n",
       "2003  제235회    본회의 제1차(2012.06.21.) 음성 의사일정 제3항, 예산결...  \n",
       "2004  제235회    본회의 제1차(2012.06.21.) 음성 의사일정 제4항, 환경분...  "
      ]
     },
     "execution_count": 30,
     "metadata": {},
     "output_type": "execute_result"
    }
   ],
   "source": [
    "test.head()"
   ]
  },
  {
   "cell_type": "code",
   "execution_count": 31,
   "id": "da80c7ff",
   "metadata": {},
   "outputs": [
    {
     "data": {
      "text/plain": [
       "(506, 5)"
      ]
     },
     "execution_count": 31,
     "metadata": {},
     "output_type": "execute_result"
    }
   ],
   "source": [
    "test.shape"
   ]
  },
  {
   "cell_type": "code",
   "execution_count": 32,
   "id": "b76cdf8c-62e0-4c12-b021-c28bcd33e550",
   "metadata": {},
   "outputs": [
    {
     "name": "stdout",
     "output_type": "stream",
     "text": [
      "test data 개수:  506\n"
     ]
    },
    {
     "data": {
      "text/html": [
       "<div>\n",
       "<style scoped>\n",
       "    .dataframe tbody tr th:only-of-type {\n",
       "        vertical-align: middle;\n",
       "    }\n",
       "\n",
       "    .dataframe tbody tr th {\n",
       "        vertical-align: top;\n",
       "    }\n",
       "\n",
       "    .dataframe thead th {\n",
       "        text-align: right;\n",
       "    }\n",
       "</style>\n",
       "<table border=\"1\" class=\"dataframe\">\n",
       "  <thead>\n",
       "    <tr style=\"text-align: right;\">\n",
       "      <th></th>\n",
       "      <th>uid</th>\n",
       "      <th>document_text</th>\n",
       "    </tr>\n",
       "  </thead>\n",
       "  <tbody>\n",
       "    <tr>\n",
       "      <th>2000</th>\n",
       "      <td>2000</td>\n",
       "      <td>의석을 정돈하여 주시기 바랍니다.\\n\\n성원이 되었으므로 지금부터 음성군의회 제23...</td>\n",
       "    </tr>\n",
       "    <tr>\n",
       "      <th>2001</th>\n",
       "      <td>2001</td>\n",
       "      <td>의사일정 제1항, 음성군의회 제235회 제1차 정례회 회기결정의 건을 상정합니다.\\...</td>\n",
       "    </tr>\n",
       "    <tr>\n",
       "      <th>2002</th>\n",
       "      <td>2002</td>\n",
       "      <td>의사일정 제2항, 회의록 서명의원 선출의 건을 상정합니다.\\n\\n제235회 제1차 ...</td>\n",
       "    </tr>\n",
       "    <tr>\n",
       "      <th>2003</th>\n",
       "      <td>2003</td>\n",
       "      <td>의사일정 제3항, 예산결산특별위원회 구성의 건을 상정합니다.\\n\\n예산결산특별위원회...</td>\n",
       "    </tr>\n",
       "    <tr>\n",
       "      <th>2004</th>\n",
       "      <td>2004</td>\n",
       "      <td>의사일정 제4항, 환경분야 현지확인 특별위원회 구성결의안을 상정합니다.\\n\\n대표발...</td>\n",
       "    </tr>\n",
       "  </tbody>\n",
       "</table>\n",
       "</div>"
      ],
      "text/plain": [
       "       uid                                      document_text\n",
       "2000  2000  의석을 정돈하여 주시기 바랍니다.\\n\\n성원이 되었으므로 지금부터 음성군의회 제23...\n",
       "2001  2001  의사일정 제1항, 음성군의회 제235회 제1차 정례회 회기결정의 건을 상정합니다.\\...\n",
       "2002  2002  의사일정 제2항, 회의록 서명의원 선출의 건을 상정합니다.\\n\\n제235회 제1차 ...\n",
       "2003  2003  의사일정 제3항, 예산결산특별위원회 구성의 건을 상정합니다.\\n\\n예산결산특별위원회...\n",
       "2004  2004  의사일정 제4항, 환경분야 현지확인 특별위원회 구성결의안을 상정합니다.\\n\\n대표발..."
      ]
     },
     "execution_count": 32,
     "metadata": {},
     "output_type": "execute_result"
    }
   ],
   "source": [
    "test_doc = pd.DataFrame()\n",
    "test_doc['uid'] = test['uid']\n",
    "test_doc['document_text'] = test['context']\n",
    "\n",
    "\n",
    "save_file = \"test_doc.csv\"\n",
    "save_dir = os.path.join(DIR, save_file)\n",
    "test_doc.to_csv(save_dir, header=True, index=False)\n",
    "\n",
    "\n",
    "print(\"test data 개수: \", len(test_doc))\n",
    "test_doc.head()"
   ]
  },
  {
   "cell_type": "code",
   "execution_count": null,
   "id": "53cdf6d3-4c42-4c31-84b2-0e5978477cb5",
   "metadata": {},
   "outputs": [],
   "source": []
  }
 ],
 "metadata": {
  "interpreter": {
   "hash": "d4d1e4263499bec80672ea0156c357c1ee493ec2b1c70f0acce89fc37c4a6abe"
  },
  "kernelspec": {
   "display_name": "Python 3.8.5 ('base')",
   "language": "python",
   "name": "python3"
  },
  "language_info": {
   "codemirror_mode": {
    "name": "ipython",
    "version": 3
   },
   "file_extension": ".py",
   "mimetype": "text/x-python",
   "name": "python",
   "nbconvert_exporter": "python",
   "pygments_lexer": "ipython3",
   "version": "3.8.5"
  }
 },
 "nbformat": 4,
 "nbformat_minor": 5
}
