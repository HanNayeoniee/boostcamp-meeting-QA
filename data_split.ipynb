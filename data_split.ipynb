{
 "cells": [
  {
   "cell_type": "code",
   "execution_count": 38,
   "metadata": {},
   "outputs": [
    {
     "name": "stdout",
     "output_type": "stream",
     "text": [
      "========== train test split 완료 ==========\n"
     ]
    }
   ],
   "source": [
    "import os\n",
    "import pandas as pd\n",
    "from sklearn.model_selection import StratifiedShuffleSplit\n",
    "import pickle\n",
    "\n",
    "FILE_NAME = \"/opt/ml/input/data/origin_data.csv\"\n",
    "SAVE_DIR = \"/opt/ml/input/meeting_data\"\n",
    "\n",
    "def stratified_choice_train_test_split(X, test_size=0.2, random_state=42):\n",
    "  \"\"\" 라벨별로 일정 비율로 추출합니다 (ruw_label_to_num.pkl 경로 확인 필수)\"\"\"\n",
    "  split = StratifiedShuffleSplit(n_splits=1, test_size=test_size, random_state=random_state)\n",
    "  for train_idx, test_idx in split.split(X, X[\"category\"]):\n",
    "      X_train = X.iloc[train_idx]\n",
    "      X_test = X.iloc[test_idx]\n",
    "  return X_train, X_test\n",
    "\n",
    "pd_dataset = pd.read_csv(FILE_NAME)\n",
    "pd_train, pd_test = stratified_choice_train_test_split(pd_dataset, test_size=0.1, random_state=42)\n",
    "pd_train, pd_validation = stratified_choice_train_test_split(pd_train, test_size=0.1, random_state=42)\n",
    "if not os.path.exists(SAVE_DIR):\n",
    "    os.mkdir(SAVE_DIR)\n",
    "pd_train[\"id\"] = list(range(len(pd_train)))\n",
    "pd_validation[\"id\"] = list(range(len(pd_train),len(pd_train)+len(pd_validation)))\n",
    "pd_test[\"id\"] = list(range(len(pd_train)+len(pd_validation),len(pd_train)+len(pd_validation)+len(pd_test)))\n",
    "pd_train.to_csv(os.path.join(SAVE_DIR, \"train.csv\"), index=False)\n",
    "pd_validation.to_csv(os.path.join(SAVE_DIR,\"validation.csv\"), index=False)\n",
    "pd_test.to_csv(os.path.join(SAVE_DIR, \"test.csv\"), index=False)\n",
    "\n",
    "print(\"========== train test split 완료 ==========\")"
   ]
  },
  {
   "cell_type": "code",
   "execution_count": 11,
   "metadata": {},
   "outputs": [
    {
     "data": {
      "text/plain": [
       "StratifiedShuffleSplit(n_splits=1, random_state=42, test_size=0.2,\n",
       "            train_size=None)"
      ]
     },
     "execution_count": 11,
     "metadata": {},
     "output_type": "execute_result"
    }
   ],
   "source": [
    "split = StratifiedShuffleSplit(n_splits=1, test_size=0.2, random_state=42)\n",
    "split"
   ]
  },
  {
   "cell_type": "code",
   "execution_count": 12,
   "metadata": {},
   "outputs": [
    {
     "data": {
      "text/plain": [
       "<generator object BaseShuffleSplit.split at 0x7f214edc8270>"
      ]
     },
     "execution_count": 12,
     "metadata": {},
     "output_type": "execute_result"
    }
   ],
   "source": [
    "split.split(pd_dataset, pd_dataset[\"answers\"])"
   ]
  },
  {
   "cell_type": "code",
   "execution_count": 14,
   "metadata": {},
   "outputs": [],
   "source": [
    "for train_idx, test_idx in split.split(pd_dataset, pd_dataset[\"category\"]):\n",
    "    X_train = pd_dataset.iloc[train_idx]\n",
    "    X_test = pd_dataset.iloc[test_idx]"
   ]
  },
  {
   "cell_type": "code",
   "execution_count": 16,
   "metadata": {},
   "outputs": [
    {
     "name": "stdout",
     "output_type": "stream",
     "text": [
      "카테고리 수 : 7\n"
     ]
    }
   ],
   "source": [
    "print(f\"카테고리 수 : {X_train['category'].nunique()}\")"
   ]
  },
  {
   "cell_type": "code",
   "execution_count": 17,
   "metadata": {},
   "outputs": [
    {
     "name": "stdout",
     "output_type": "stream",
     "text": [
      "Collecting seaborn\n",
      "  Downloading seaborn-0.11.2-py3-none-any.whl (292 kB)\n",
      "\u001b[2K     \u001b[90m━━━━━━━━━━━━━━━━━━━━━━━━━━━━━━━━━━━━━━\u001b[0m \u001b[32m292.8/292.8 kB\u001b[0m \u001b[31m28.1 MB/s\u001b[0m eta \u001b[36m0:00:00\u001b[0m\n",
      "\u001b[?25hRequirement already satisfied: pandas>=0.23 in /opt/conda/lib/python3.8/site-packages (from seaborn) (1.1.5)\n",
      "Requirement already satisfied: scipy>=1.0 in /opt/conda/lib/python3.8/site-packages (from seaborn) (1.8.0)\n",
      "Requirement already satisfied: numpy>=1.15 in /opt/conda/lib/python3.8/site-packages (from seaborn) (1.19.2)\n",
      "Requirement already satisfied: matplotlib>=2.2 in /opt/conda/lib/python3.8/site-packages (from seaborn) (3.2.1)\n",
      "Requirement already satisfied: kiwisolver>=1.0.1 in /opt/conda/lib/python3.8/site-packages (from matplotlib>=2.2->seaborn) (1.4.2)\n",
      "Requirement already satisfied: python-dateutil>=2.1 in /opt/conda/lib/python3.8/site-packages (from matplotlib>=2.2->seaborn) (2.8.2)\n",
      "Requirement already satisfied: cycler>=0.10 in /opt/conda/lib/python3.8/site-packages (from matplotlib>=2.2->seaborn) (0.11.0)\n",
      "Requirement already satisfied: pyparsing!=2.0.4,!=2.1.2,!=2.1.6,>=2.0.1 in /opt/conda/lib/python3.8/site-packages (from matplotlib>=2.2->seaborn) (3.0.8)\n",
      "Requirement already satisfied: pytz>=2017.2 in /opt/conda/lib/python3.8/site-packages (from pandas>=0.23->seaborn) (2020.5)\n",
      "Requirement already satisfied: six>=1.5 in /opt/conda/lib/python3.8/site-packages (from python-dateutil>=2.1->matplotlib>=2.2->seaborn) (1.15.0)\n",
      "Installing collected packages: seaborn\n",
      "Successfully installed seaborn-0.11.2\n",
      "\u001b[33mWARNING: Running pip as the 'root' user can result in broken permissions and conflicting behaviour with the system package manager. It is recommended to use a virtual environment instead: https://pip.pypa.io/warnings/venv\u001b[0m\u001b[33m\n",
      "\u001b[0m\u001b[33mWARNING: There was an error checking the latest version of pip.\u001b[0m\u001b[33m\n",
      "\u001b[0m"
     ]
    }
   ],
   "source": [
    "!pip install seaborn"
   ]
  },
  {
   "cell_type": "code",
   "execution_count": 26,
   "metadata": {},
   "outputs": [
    {
     "data": {
      "image/png": "[encoded data removed]",
      "text/plain": [
       "<Figure size 1080x576 with 3 Axes>"
      ]
     },
     "metadata": {},
     "output_type": "display_data"
    }
   ],
   "source": [
    "import seaborn as sns\n",
    "import matplotlib.pyplot as plt\n",
    "fig = plt.figure()\n",
    "for i in range(1, 4):\n",
    "    axes = fig.add_subplot(1, 3, i)\n",
    "    if i == 1:\n",
    "        sns.countplot(y='category', data=pd_train, order=pd_train['category'].value_counts().index)\n",
    "    elif i==2:\n",
    "        sns.countplot(y='category', data=pd_validation, order=pd_validation['category'].value_counts().index)\n",
    "    else:\n",
    "        sns.countplot(y='category', data=pd_test, order=pd_test['category'].value_counts().index)\n"
   ]
  },
  {
   "cell_type": "code",
   "execution_count": 20,
   "metadata": {},
   "outputs": [
    {
     "data": {
      "text/plain": [
       "<matplotlib.axes._subplots.AxesSubplot at 0x7f214d13a760>"
      ]
     },
     "execution_count": 20,
     "metadata": {},
     "output_type": "execute_result"
    },
    {
     "data": {
      "image/png": "[encoded data removed]",
      "text/plain": [
       "<Figure size 1080x576 with 1 Axes>"
      ]
     },
     "metadata": {},
     "output_type": "display_data"
    }
   ],
   "source": [
    "sns.set(rc = {'figure.figsize':(15,8)})\n",
    "sns.countplot(y='category', data=X_test, order=X_test['category'].value_counts().index)"
   ]
  },
  {
   "cell_type": "code",
   "execution_count": 35,
   "metadata": {},
   "outputs": [],
   "source": [
    "import pyarrow.feather as feather\n",
    "feather.write_feather(pd_train, '/opt/ml/input/meeting_data/train.arrow')\n",
    "feather.write_feather(pd_validation, '/opt/ml/input/meeting_data/validation.arrow')\n",
    "feather.write_feather(pd_test, '/opt/ml/input/meeting_data/test.arrow')"
   ]
  },
  {
   "cell_type": "code",
   "execution_count": 36,
   "metadata": {},
   "outputs": [],
   "source": [
    "import pyarrow.dataset as ds\n",
    "dataset = ds.dataset(\"/opt/ml/input/meeting_data/train.arrow\", format=\"arrow\")"
   ]
  },
  {
   "cell_type": "code",
   "execution_count": 37,
   "metadata": {},
   "outputs": [],
   "source": [
    "ds.write_dataset(data=dataset, base_dir=\"/opt/ml/input/meeting_data/train_dataset/train\", format=\"arrow\")"
   ]
  },
  {
   "cell_type": "code",
   "execution_count": 40,
   "metadata": {},
   "outputs": [
    {
     "name": "stdout",
     "output_type": "stream",
     "text": [
      "{'title': '미국 상원', 'context': '미국 상의원 또는 미국 상원(United States Senate)은 양원제인 미국 의회의 상원이다.\\\\n\\\\n미국 부통령이 상원의장이 된다. 각 주당 2명의 상원의원이 선출되어 100명의 상원의원으로 구성되어 있다. 임기는 6년이며, 2년마다 50개주 중 1/3씩 상원의원을 새로 선출하여 연방에 보낸다.\\\\n\\\\n미국 상원은 미국 하원과는 다르게 미국 대통령을 수반으로 하는 미국 연방 행정부에 각종 동의를 하는 기관이다. 하원이 세금과 경제에 대한 권한, 대통령을 포함한 대다수의 공무원을 파면할 권한을 갖고 있는 국민을 대표하는 기관인 반면 상원은 미국의 주를 대표한다. 즉 캘리포니아주, 일리노이주 같이 주 정부와 주 의회를 대표하는 기관이다. 그로 인하여 군대의 파병, 관료의 임명에 대한 동의, 외국 조약에 대한 승인 등 신속을 요하는 권한은 모두 상원에게만 있다. 그리고 하원에 대한 견제 역할(하원의 법안을 거부할 권한 등)을 담당한다. 2년의 임기로 인하여 급진적일 수밖에 없는 하원은 지나치게 급진적인 법안을 만들기 쉽다. 대표적인 예로 건강보험 개혁 당시 하원이 미국 연방 행정부에게 퍼블릭 옵션(공공건강보험기관)의 조항이 있는 반면 상원의 경우 하원안이 지나치게 세금이 많이 든다는 이유로 퍼블릭 옵션 조항을 제외하고 비영리건강보험기관이나 보험회사가 담당하도록 한 것이다. 이 경우처럼 상원은 하원이나 내각책임제가 빠지기 쉬운 국가들의 국회처럼 걸핏하면 발생하는 의회의 비정상적인 사태를 방지하는 기관이다. 상원은 급박한 처리사항의 경우가 아니면 법안을 먼저 내는 경우가 드물고 하원이 만든 법안을 수정하여 다시 하원에 되돌려보낸다. 이러한 방식으로 단원제가 빠지기 쉬운 함정을 미리 방지하는 것이다.날짜=2017-02-05', 'question': '대통령을 포함한 미국의 행정부 견제권을 갖는 국가 기관은?', 'id': 'mrc-1-000067', 'answers': {'answer_start': [235], 'text': ['하원']}, 'document_id': 18293, '__index_level_0__': 42}\n"
     ]
    }
   ],
   "source": [
    "from datasets import load_from_disk\n",
    "datasets = load_from_disk(\"/opt/ml/input/data/train_dataset\")\n",
    "print(datasets[\"train\"][0])"
   ]
  },
  {
   "cell_type": "code",
   "execution_count": 41,
   "metadata": {},
   "outputs": [
    {
     "data": {
      "text/html": [
       "<div>\n",
       "<style scoped>\n",
       "    .dataframe tbody tr th:only-of-type {\n",
       "        vertical-align: middle;\n",
       "    }\n",
       "\n",
       "    .dataframe tbody tr th {\n",
       "        vertical-align: top;\n",
       "    }\n",
       "\n",
       "    .dataframe thead th {\n",
       "        text-align: right;\n",
       "    }\n",
       "</style>\n",
       "<table border=\"1\" class=\"dataframe\">\n",
       "  <thead>\n",
       "    <tr style=\"text-align: right;\">\n",
       "      <th></th>\n",
       "      <th>category</th>\n",
       "      <th>document_id</th>\n",
       "      <th>question</th>\n",
       "      <th>answers</th>\n",
       "      <th>context</th>\n",
       "    </tr>\n",
       "  </thead>\n",
       "  <tbody>\n",
       "    <tr>\n",
       "      <th>110</th>\n",
       "      <td>5</td>\n",
       "      <td>603772</td>\n",
       "      <td>제203회 완주군의회(임시회)를 휴회하는 이유는 뭘까?</td>\n",
       "      <td>{'answer_start': 64, 'text': '상임위원회 의정활동을 위하여'}</td>\n",
       "      <td>@제203회 완주군의회(임시회) 제 1 차 본회의회의록@\\n\\n다음은 의사일정 제5...</td>\n",
       "    </tr>\n",
       "    <tr>\n",
       "      <th>491</th>\n",
       "      <td>6</td>\n",
       "      <td>603566</td>\n",
       "      <td>제78회 회의에서 예산결산 특별위원회 위원으로 몇 명이 선임됐어?</td>\n",
       "      <td>{'answer_start': 446, 'text': '열 두분'}</td>\n",
       "      <td>@제78회 전라북도 완주군의회 (제1차 정례회) 제1호 본 회 의 회 의 록@\\n\\...</td>\n",
       "    </tr>\n",
       "    <tr>\n",
       "      <th>314</th>\n",
       "      <td>4</td>\n",
       "      <td>604211</td>\n",
       "      <td>제129회 전라북도 완주군의회에서 운영위원회로 발탁된 사람이 누구더라?</td>\n",
       "      <td>{'answer_start': 430, 'text': '송지용 의원, 임원규 의원,...</td>\n",
       "      <td>@제129회 전라북도 완주군의회(임시회) 제1호 본 회 의 회 의 록@\\n\\n좌석을...</td>\n",
       "    </tr>\n",
       "    <tr>\n",
       "      <th>634</th>\n",
       "      <td>3</td>\n",
       "      <td>603762</td>\n",
       "      <td>제123회 전라북도 완주군의회에서 제2회추가경정예산(안)에 대해 얘기하는 사람은 누구야?</td>\n",
       "      <td>{'answer_start': 123, 'text': '기획감사실장 이방재'}</td>\n",
       "      <td>@제123회 전라북도 완주군의회(임시회) 제1호 본 회 의 회 의 록@\\n\\n다음은...</td>\n",
       "    </tr>\n",
       "    <tr>\n",
       "      <th>854</th>\n",
       "      <td>7</td>\n",
       "      <td>603921</td>\n",
       "      <td>완주군자치법규입법예고에관한조례중개정조례안, 건국범국민추진위원회조례폐지조례안, 200...</td>\n",
       "      <td>{'answer_start': 1, 'text': '제105회 전라북도 완주군의회 ...</td>\n",
       "      <td>@제105회 전라북도 완주군의회 (임시회) 제2호 본 회 의 회 의 록@\\n\\n의사...</td>\n",
       "    </tr>\n",
       "    <tr>\n",
       "      <th>...</th>\n",
       "      <td>...</td>\n",
       "      <td>...</td>\n",
       "      <td>...</td>\n",
       "      <td>...</td>\n",
       "      <td>...</td>\n",
       "    </tr>\n",
       "    <tr>\n",
       "      <th>1049</th>\n",
       "      <td>1</td>\n",
       "      <td>604083</td>\n",
       "      <td>164회 의회에서 정한 휴회 기간을 언제부터 언제까지 가지려고 했었지?</td>\n",
       "      <td>{'answer_start': 88, 'text': '9월 3일부터 9월 14일까지...</td>\n",
       "      <td>@제164회 전라북도 완주군의회(임시회) 제1호 본 회 의 회 의 록@\\n\\n다음은...</td>\n",
       "    </tr>\n",
       "    <tr>\n",
       "      <th>533</th>\n",
       "      <td>2</td>\n",
       "      <td>603654</td>\n",
       "      <td>제39회 전라북도 완주군의회 (임시회) 제1호 본회의의 다음 회의는 언제 진행해?</td>\n",
       "      <td>{'answer_start': 322, 'text': '9월 18일 오전 10시'}</td>\n",
       "      <td>@제39회 전라북도 완주군의회 (임시회) 제1호 본회의회의록@\\n\\n다음은 지방자치...</td>\n",
       "    </tr>\n",
       "    <tr>\n",
       "      <th>164</th>\n",
       "      <td>6</td>\n",
       "      <td>604183</td>\n",
       "      <td>제231회 완주군의회 윤수봉 의원의 득표 수는 얼마야?</td>\n",
       "      <td>{'answer_start': 0, 'text': '@'}</td>\n",
       "      <td>@제231회 완주군의회(임시회) 제1차 본 회 의 회 의 록@\\n\\n의사일정 제3항...</td>\n",
       "    </tr>\n",
       "    <tr>\n",
       "      <th>249</th>\n",
       "      <td>6</td>\n",
       "      <td>604080</td>\n",
       "      <td>8월 26일에 제안된 총 의안의 갯수는?</td>\n",
       "      <td>{'answer_start': 646, 'text': '8건'}</td>\n",
       "      <td>@제164회 전라북도 완주군의회(임시회) 제1호 본 회 의 회 의 록@\\n\\n좌석을...</td>\n",
       "    </tr>\n",
       "    <tr>\n",
       "      <th>253</th>\n",
       "      <td>5</td>\n",
       "      <td>604097</td>\n",
       "      <td>어떤 이유로 소비 심리의 위축과 및 물가상승이 이뤄진거야?</td>\n",
       "      <td>{'answer_start': 1328, 'text': '경기침체'}</td>\n",
       "      <td>@제122회 전라북도 완주군의회(임시회) 제2호 본 회 의 회 의 록@\\n\\n다음은...</td>\n",
       "    </tr>\n",
       "  </tbody>\n",
       "</table>\n",
       "<p>1257 rows × 5 columns</p>\n",
       "</div>"
      ],
      "text/plain": [
       "      category  document_id  \\\n",
       "110          5       603772   \n",
       "491          6       603566   \n",
       "314          4       604211   \n",
       "634          3       603762   \n",
       "854          7       603921   \n",
       "...        ...          ...   \n",
       "1049         1       604083   \n",
       "533          2       603654   \n",
       "164          6       604183   \n",
       "249          6       604080   \n",
       "253          5       604097   \n",
       "\n",
       "                                               question  \\\n",
       "110                      제203회 완주군의회(임시회)를 휴회하는 이유는 뭘까?   \n",
       "491                제78회 회의에서 예산결산 특별위원회 위원으로 몇 명이 선임됐어?   \n",
       "314             제129회 전라북도 완주군의회에서 운영위원회로 발탁된 사람이 누구더라?   \n",
       "634   제123회 전라북도 완주군의회에서 제2회추가경정예산(안)에 대해 얘기하는 사람은 누구야?   \n",
       "854   완주군자치법규입법예고에관한조례중개정조례안, 건국범국민추진위원회조례폐지조례안, 200...   \n",
       "...                                                 ...   \n",
       "1049            164회 의회에서 정한 휴회 기간을 언제부터 언제까지 가지려고 했었지?   \n",
       "533       제39회 전라북도 완주군의회 (임시회) 제1호 본회의의 다음 회의는 언제 진행해?   \n",
       "164                      제231회 완주군의회 윤수봉 의원의 득표 수는 얼마야?   \n",
       "249                              8월 26일에 제안된 총 의안의 갯수는?   \n",
       "253                    어떤 이유로 소비 심리의 위축과 및 물가상승이 이뤄진거야?   \n",
       "\n",
       "                                                answers  \\\n",
       "110     {'answer_start': 64, 'text': '상임위원회 의정활동을 위하여'}   \n",
       "491               {'answer_start': 446, 'text': '열 두분'}   \n",
       "314   {'answer_start': 430, 'text': '송지용 의원, 임원규 의원,...   \n",
       "634         {'answer_start': 123, 'text': '기획감사실장 이방재'}   \n",
       "854   {'answer_start': 1, 'text': '제105회 전라북도 완주군의회 ...   \n",
       "...                                                 ...   \n",
       "1049  {'answer_start': 88, 'text': '9월 3일부터 9월 14일까지...   \n",
       "533      {'answer_start': 322, 'text': '9월 18일 오전 10시'}   \n",
       "164                    {'answer_start': 0, 'text': '@'}   \n",
       "249                 {'answer_start': 646, 'text': '8건'}   \n",
       "253              {'answer_start': 1328, 'text': '경기침체'}   \n",
       "\n",
       "                                                context  \n",
       "110   @제203회 완주군의회(임시회) 제 1 차 본회의회의록@\\n\\n다음은 의사일정 제5...  \n",
       "491   @제78회 전라북도 완주군의회 (제1차 정례회) 제1호 본 회 의 회 의 록@\\n\\...  \n",
       "314   @제129회 전라북도 완주군의회(임시회) 제1호 본 회 의 회 의 록@\\n\\n좌석을...  \n",
       "634   @제123회 전라북도 완주군의회(임시회) 제1호 본 회 의 회 의 록@\\n\\n다음은...  \n",
       "854   @제105회 전라북도 완주군의회 (임시회) 제2호 본 회 의 회 의 록@\\n\\n의사...  \n",
       "...                                                 ...  \n",
       "1049  @제164회 전라북도 완주군의회(임시회) 제1호 본 회 의 회 의 록@\\n\\n다음은...  \n",
       "533   @제39회 전라북도 완주군의회 (임시회) 제1호 본회의회의록@\\n\\n다음은 지방자치...  \n",
       "164   @제231회 완주군의회(임시회) 제1차 본 회 의 회 의 록@\\n\\n의사일정 제3항...  \n",
       "249   @제164회 전라북도 완주군의회(임시회) 제1호 본 회 의 회 의 록@\\n\\n좌석을...  \n",
       "253   @제122회 전라북도 완주군의회(임시회) 제2호 본 회 의 회 의 록@\\n\\n다음은...  \n",
       "\n",
       "[1257 rows x 5 columns]"
      ]
     },
     "execution_count": 41,
     "metadata": {},
     "output_type": "execute_result"
    }
   ],
   "source": [
    "pd_train"
   ]
  },
  {
   "cell_type": "code",
   "execution_count": null,
   "metadata": {},
   "outputs": [],
   "source": []
  }
 ],
 "metadata": {
  "interpreter": {
   "hash": "d4d1e4263499bec80672ea0156c357c1ee493ec2b1c70f0acce89fc37c4a6abe"
  },
  "kernelspec": {
   "display_name": "Python 3.8.5 ('base')",
   "language": "python",
   "name": "python3"
  },
  "language_info": {
   "codemirror_mode": {
    "name": "ipython",
    "version": 3
   },
   "file_extension": ".py",
   "mimetype": "text/x-python",
   "name": "python",
   "nbconvert_exporter": "python",
   "pygments_lexer": "ipython3",
   "version": "3.8.5"
  },
  "orig_nbformat": 4
 },
 "nbformat": 4,
 "nbformat_minor": 2
}
